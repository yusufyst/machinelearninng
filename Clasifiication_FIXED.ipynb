{
  "nbformat": 4,
  "nbformat_minor": 0,
  "metadata": {
    "colab": {
      "name": "Clasifiication FIXED",
      "provenance": [],
      "toc_visible": true
    },
    "kernelspec": {
      "name": "python3",
      "display_name": "Python 3"
    }
  },
  "cells": [
    {
      "cell_type": "markdown",
      "metadata": {
        "id": "soKR7GDwT4Pd",
        "colab_type": "text"
      },
      "source": [
        "NAMA : Yusuf Surya Tryantono\n",
        "\n",
        "NIM : 1301174268 ; Kelas : IF 41-12\n"
      ]
    },
    {
      "cell_type": "markdown",
      "metadata": {
        "id": "Ll5bEpDaVlnI",
        "colab_type": "text"
      },
      "source": [
        "Model yang akan digunakan adalah model seperti - KNN, regresi linier.\n"
      ]
    },
    {
      "cell_type": "markdown",
      "metadata": {
        "id": "L6K-C_fXT45v",
        "colab_type": "text"
      },
      "source": [
        "# **Upload Dataset**\n"
      ]
    },
    {
      "cell_type": "markdown",
      "metadata": {
        "id": "YJ7MT4-7UjMm",
        "colab_type": "text"
      },
      "source": [
        "Dalam dataset \"used_cars\", Atribut yang saya gunakan ialah, \"odometer\" dan \"year\". Odometer merupakan jarak tempuh jauh sebuah mobil selama pemakaian. Year ialah sebuah takaran waktu dimana seberapa mobil itu dipakai. Dua fitur ini dihubungkan dengan fitur \"price\"."
      ]
    },
    {
      "cell_type": "markdown",
      "metadata": {
        "id": "FfJOxcnLV6cc",
        "colab_type": "text"
      },
      "source": [
        "**Libray yang saya gunakan**"
      ]
    },
    {
      "cell_type": "code",
      "metadata": {
        "id": "QTBhUxp21MMW",
        "colab_type": "code",
        "colab": {}
      },
      "source": [
        "import pandas as pd\n",
        "import numpy as np\n",
        "import matplotlib.pyplot as plt\n",
        "import seaborn as sns\n",
        "import missingno as msno\n",
        "import warnings\n",
        "from pandas.plotting import scatter_matrix\n",
        "from sklearn import datasets, linear_model\n",
        "from sklearn.model_selection import train_test_split\n",
        "from sklearn.preprocessing import LabelEncoder, OneHotEncoder, MinMaxScaler\n",
        "from sklearn.impute import SimpleImputer\n",
        "import random as rd\n",
        "warnings.filterwarnings('ignore')\n",
        "%matplotlib inline"
      ],
      "execution_count": 0,
      "outputs": []
    },
    {
      "cell_type": "markdown",
      "metadata": {
        "id": "PvgdIceJWDLG",
        "colab_type": "text"
      },
      "source": [
        "**Untuk membaca data csv yang sudah di upload dalam collab**"
      ]
    },
    {
      "cell_type": "code",
      "metadata": {
        "id": "6MZjB5n81T_3",
        "colab_type": "code",
        "colab": {}
      },
      "source": [
        "df = pd.read_csv('used_cars.csv')"
      ],
      "execution_count": 0,
      "outputs": []
    },
    {
      "cell_type": "markdown",
      "metadata": {
        "id": "l2flyNBrWStW",
        "colab_type": "text"
      },
      "source": [
        "**Cek Dataset**"
      ]
    },
    {
      "cell_type": "code",
      "metadata": {
        "id": "NSuyMn5Y1tY7",
        "colab_type": "code",
        "outputId": "d4c5f085-ee46-4713-f852-3770b458891c",
        "colab": {
          "base_uri": "https://localhost:8080/",
          "height": 589
        }
      },
      "source": [
        "df.info()"
      ],
      "execution_count": 201,
      "outputs": [
        {
          "output_type": "stream",
          "text": [
            "<class 'pandas.core.frame.DataFrame'>\n",
            "RangeIndex: 20001 entries, 0 to 20000\n",
            "Data columns (total 26 columns):\n",
            " #   Column        Non-Null Count  Dtype  \n",
            "---  ------        --------------  -----  \n",
            " 0   Unnamed: 0    20001 non-null  int64  \n",
            " 1   id            20001 non-null  int64  \n",
            " 2   url           20001 non-null  object \n",
            " 3   region        20001 non-null  object \n",
            " 4   region_url    20001 non-null  object \n",
            " 5   price         20001 non-null  int64  \n",
            " 6   year          19989 non-null  float64\n",
            " 7   manufacturer  19296 non-null  object \n",
            " 8   model         19736 non-null  object \n",
            " 9   condition     10849 non-null  object \n",
            " 10  cylinders     12916 non-null  object \n",
            " 11  fuel          19928 non-null  object \n",
            " 12  odometer      17612 non-null  float64\n",
            " 13  title_status  19891 non-null  object \n",
            " 14  transmission  19811 non-null  object \n",
            " 15  vin           13356 non-null  object \n",
            " 16  drive         15359 non-null  object \n",
            " 17  size          6886 non-null   object \n",
            " 18  type          16342 non-null  object \n",
            " 19  paint_color   14487 non-null  object \n",
            " 20  image_url     20001 non-null  object \n",
            " 21  description   20001 non-null  object \n",
            " 22  county        0 non-null      float64\n",
            " 23  state         20001 non-null  object \n",
            " 24  lat           18970 non-null  float64\n",
            " 25  long          18970 non-null  float64\n",
            "dtypes: float64(5), int64(3), object(18)\n",
            "memory usage: 4.0+ MB\n"
          ],
          "name": "stdout"
        }
      ]
    },
    {
      "cell_type": "code",
      "metadata": {
        "id": "-TGy_CsI1u4e",
        "colab_type": "code",
        "outputId": "91d99143-9037-4d8c-ef16-5810de2873aa",
        "colab": {
          "base_uri": "https://localhost:8080/",
          "height": 517
        }
      },
      "source": [
        "df.head()"
      ],
      "execution_count": 202,
      "outputs": [
        {
          "output_type": "execute_result",
          "data": {
            "text/html": [
              "<div>\n",
              "<style scoped>\n",
              "    .dataframe tbody tr th:only-of-type {\n",
              "        vertical-align: middle;\n",
              "    }\n",
              "\n",
              "    .dataframe tbody tr th {\n",
              "        vertical-align: top;\n",
              "    }\n",
              "\n",
              "    .dataframe thead th {\n",
              "        text-align: right;\n",
              "    }\n",
              "</style>\n",
              "<table border=\"1\" class=\"dataframe\">\n",
              "  <thead>\n",
              "    <tr style=\"text-align: right;\">\n",
              "      <th></th>\n",
              "      <th>Unnamed: 0</th>\n",
              "      <th>id</th>\n",
              "      <th>url</th>\n",
              "      <th>region</th>\n",
              "      <th>region_url</th>\n",
              "      <th>price</th>\n",
              "      <th>year</th>\n",
              "      <th>manufacturer</th>\n",
              "      <th>model</th>\n",
              "      <th>condition</th>\n",
              "      <th>cylinders</th>\n",
              "      <th>fuel</th>\n",
              "      <th>odometer</th>\n",
              "      <th>title_status</th>\n",
              "      <th>transmission</th>\n",
              "      <th>vin</th>\n",
              "      <th>drive</th>\n",
              "      <th>size</th>\n",
              "      <th>type</th>\n",
              "      <th>paint_color</th>\n",
              "      <th>image_url</th>\n",
              "      <th>description</th>\n",
              "      <th>county</th>\n",
              "      <th>state</th>\n",
              "      <th>lat</th>\n",
              "      <th>long</th>\n",
              "    </tr>\n",
              "  </thead>\n",
              "  <tbody>\n",
              "    <tr>\n",
              "      <th>0</th>\n",
              "      <td>0</td>\n",
              "      <td>7034441763</td>\n",
              "      <td>https://saltlakecity.craigslist.org/cto/d/salt...</td>\n",
              "      <td>salt lake city</td>\n",
              "      <td>https://saltlakecity.craigslist.org</td>\n",
              "      <td>17899</td>\n",
              "      <td>2012.0</td>\n",
              "      <td>volkswagen</td>\n",
              "      <td>golf r</td>\n",
              "      <td>excellent</td>\n",
              "      <td>4 cylinders</td>\n",
              "      <td>gas</td>\n",
              "      <td>63500.0</td>\n",
              "      <td>clean</td>\n",
              "      <td>manual</td>\n",
              "      <td>WVWPF7AJ6CW316713</td>\n",
              "      <td>4wd</td>\n",
              "      <td>compact</td>\n",
              "      <td>hatchback</td>\n",
              "      <td>black</td>\n",
              "      <td>https://images.craigslist.org/00G0G_fTLDWM5Xyv...</td>\n",
              "      <td>PRICE REDUCED!   -Garage kept -Low Miles (63K)...</td>\n",
              "      <td>NaN</td>\n",
              "      <td>ut</td>\n",
              "      <td>40.7372</td>\n",
              "      <td>-111.858</td>\n",
              "    </tr>\n",
              "    <tr>\n",
              "      <th>1</th>\n",
              "      <td>1</td>\n",
              "      <td>7034440610</td>\n",
              "      <td>https://saltlakecity.craigslist.org/ctd/d/sand...</td>\n",
              "      <td>salt lake city</td>\n",
              "      <td>https://saltlakecity.craigslist.org</td>\n",
              "      <td>0</td>\n",
              "      <td>2016.0</td>\n",
              "      <td>ford</td>\n",
              "      <td>f-150</td>\n",
              "      <td>excellent</td>\n",
              "      <td>NaN</td>\n",
              "      <td>gas</td>\n",
              "      <td>10.0</td>\n",
              "      <td>clean</td>\n",
              "      <td>automatic</td>\n",
              "      <td>1FTMF1EP3GKF13544</td>\n",
              "      <td>4wd</td>\n",
              "      <td>NaN</td>\n",
              "      <td>NaN</td>\n",
              "      <td>NaN</td>\n",
              "      <td>https://images.craigslist.org/00v0v_7Cu0buIofU...</td>\n",
              "      <td>Drive it home today. Call (Or Text) us now !!C...</td>\n",
              "      <td>NaN</td>\n",
              "      <td>ut</td>\n",
              "      <td>40.5881</td>\n",
              "      <td>-111.884</td>\n",
              "    </tr>\n",
              "    <tr>\n",
              "      <th>2</th>\n",
              "      <td>2</td>\n",
              "      <td>7034440588</td>\n",
              "      <td>https://saltlakecity.craigslist.org/ctd/d/sand...</td>\n",
              "      <td>salt lake city</td>\n",
              "      <td>https://saltlakecity.craigslist.org</td>\n",
              "      <td>46463</td>\n",
              "      <td>2015.0</td>\n",
              "      <td>gmc</td>\n",
              "      <td>sierra 1500</td>\n",
              "      <td>excellent</td>\n",
              "      <td>NaN</td>\n",
              "      <td>gas</td>\n",
              "      <td>7554.0</td>\n",
              "      <td>clean</td>\n",
              "      <td>automatic</td>\n",
              "      <td>3GTU2WEC6FG228025</td>\n",
              "      <td>4wd</td>\n",
              "      <td>NaN</td>\n",
              "      <td>NaN</td>\n",
              "      <td>white</td>\n",
              "      <td>https://images.craigslist.org/01515_lPvJ9bfbdY...</td>\n",
              "      <td>Drive it home today. Call (Or Text) us now !!C...</td>\n",
              "      <td>NaN</td>\n",
              "      <td>ut</td>\n",
              "      <td>40.5881</td>\n",
              "      <td>-111.884</td>\n",
              "    </tr>\n",
              "    <tr>\n",
              "      <th>3</th>\n",
              "      <td>3</td>\n",
              "      <td>7034440546</td>\n",
              "      <td>https://saltlakecity.craigslist.org/ctd/d/sand...</td>\n",
              "      <td>salt lake city</td>\n",
              "      <td>https://saltlakecity.craigslist.org</td>\n",
              "      <td>0</td>\n",
              "      <td>2016.0</td>\n",
              "      <td>ford</td>\n",
              "      <td>f-150</td>\n",
              "      <td>excellent</td>\n",
              "      <td>NaN</td>\n",
              "      <td>gas</td>\n",
              "      <td>10.0</td>\n",
              "      <td>clean</td>\n",
              "      <td>automatic</td>\n",
              "      <td>1FTEX1EF6GKD25447</td>\n",
              "      <td>4wd</td>\n",
              "      <td>NaN</td>\n",
              "      <td>NaN</td>\n",
              "      <td>NaN</td>\n",
              "      <td>https://images.craigslist.org/00T0T_6Rjfp3NS4O...</td>\n",
              "      <td>Drive it home today. Call (Or Text) us now !!C...</td>\n",
              "      <td>NaN</td>\n",
              "      <td>ut</td>\n",
              "      <td>40.5881</td>\n",
              "      <td>-111.884</td>\n",
              "    </tr>\n",
              "    <tr>\n",
              "      <th>4</th>\n",
              "      <td>4</td>\n",
              "      <td>7034406932</td>\n",
              "      <td>https://saltlakecity.craigslist.org/ctd/d/evan...</td>\n",
              "      <td>salt lake city</td>\n",
              "      <td>https://saltlakecity.craigslist.org</td>\n",
              "      <td>49999</td>\n",
              "      <td>2018.0</td>\n",
              "      <td>ford</td>\n",
              "      <td>f-450</td>\n",
              "      <td>NaN</td>\n",
              "      <td>NaN</td>\n",
              "      <td>diesel</td>\n",
              "      <td>70150.0</td>\n",
              "      <td>clean</td>\n",
              "      <td>automatic</td>\n",
              "      <td>1FT8W4DT8GEA90427</td>\n",
              "      <td>4wd</td>\n",
              "      <td>NaN</td>\n",
              "      <td>pickup</td>\n",
              "      <td>white</td>\n",
              "      <td>https://images.craigslist.org/00W0W_8yIUwRBXXd...</td>\n",
              "      <td>2018 Ford F-350 F350 F 350 SD Lariat Crew Cab ...</td>\n",
              "      <td>NaN</td>\n",
              "      <td>ut</td>\n",
              "      <td>40.3744</td>\n",
              "      <td>-104.694</td>\n",
              "    </tr>\n",
              "  </tbody>\n",
              "</table>\n",
              "</div>"
            ],
            "text/plain": [
              "   Unnamed: 0          id  ...      lat     long\n",
              "0           0  7034441763  ...  40.7372 -111.858\n",
              "1           1  7034440610  ...  40.5881 -111.884\n",
              "2           2  7034440588  ...  40.5881 -111.884\n",
              "3           3  7034440546  ...  40.5881 -111.884\n",
              "4           4  7034406932  ...  40.3744 -104.694\n",
              "\n",
              "[5 rows x 26 columns]"
            ]
          },
          "metadata": {
            "tags": []
          },
          "execution_count": 202
        }
      ]
    },
    {
      "cell_type": "markdown",
      "metadata": {
        "id": "PhzKhprv1yv1",
        "colab_type": "text"
      },
      "source": [
        "**Menghapus data yang tidak akan dipakai**"
      ]
    },
    {
      "cell_type": "code",
      "metadata": {
        "id": "eHUmUeEH1vXg",
        "colab_type": "code",
        "colab": {}
      },
      "source": [
        "#Drop data\n",
        "df = df.drop(columns=['region_url', 'image_url', 'lat', 'long'])"
      ],
      "execution_count": 0,
      "outputs": []
    },
    {
      "cell_type": "code",
      "metadata": {
        "id": "dbDRu-xU14PK",
        "colab_type": "code",
        "outputId": "b5980e01-f468-4cf5-89bd-d2650c5b56ce",
        "colab": {
          "base_uri": "https://localhost:8080/",
          "height": 34
        }
      },
      "source": [
        "df.shape"
      ],
      "execution_count": 204,
      "outputs": [
        {
          "output_type": "execute_result",
          "data": {
            "text/plain": [
              "(20001, 22)"
            ]
          },
          "metadata": {
            "tags": []
          },
          "execution_count": 204
        }
      ]
    },
    {
      "cell_type": "code",
      "metadata": {
        "id": "K02_E4nP2FIU",
        "colab_type": "code",
        "outputId": "e8571e6e-2c42-4ed9-dc0b-7beb82886c2f",
        "colab": {
          "base_uri": "https://localhost:8080/",
          "height": 34
        }
      },
      "source": [
        "df.drop_duplicates(subset='url')\n",
        "df.shape"
      ],
      "execution_count": 205,
      "outputs": [
        {
          "output_type": "execute_result",
          "data": {
            "text/plain": [
              "(20001, 22)"
            ]
          },
          "metadata": {
            "tags": []
          },
          "execution_count": 205
        }
      ]
    },
    {
      "cell_type": "markdown",
      "metadata": {
        "id": "WldsPHxTXQp2",
        "colab_type": "text"
      },
      "source": [
        "Menemukan jumlah rata-rata Nans dan menjatuhkan baris dengan Nans lebih dari 95%"
      ]
    },
    {
      "cell_type": "code",
      "metadata": {
        "id": "oqPhZZb-2G4A",
        "colab_type": "code",
        "outputId": "053cb729-3133-4140-ccb2-f727c743d68e",
        "colab": {
          "base_uri": "https://localhost:8080/",
          "height": 34
        }
      },
      "source": [
        "df.isnull().sum(axis=1).quantile(.95)"
      ],
      "execution_count": 206,
      "outputs": [
        {
          "output_type": "execute_result",
          "data": {
            "text/plain": [
              "8.0"
            ]
          },
          "metadata": {
            "tags": []
          },
          "execution_count": 206
        }
      ]
    },
    {
      "cell_type": "markdown",
      "metadata": {
        "id": "VuMM4OyVXUPV",
        "colab_type": "text"
      },
      "source": [
        "**9 nilai yang hilang per baris atau lebih sedang di hapuskan**\n"
      ]
    },
    {
      "cell_type": "code",
      "metadata": {
        "id": "ZWhX8Mx62Ib_",
        "colab_type": "code",
        "outputId": "5aa4e457-1e41-4c17-91db-d83d7ac605de",
        "colab": {
          "base_uri": "https://localhost:8080/",
          "height": 34
        }
      },
      "source": [
        "df = df[df.isnull().sum(axis=1) < 9]\n",
        "df.shape"
      ],
      "execution_count": 207,
      "outputs": [
        {
          "output_type": "execute_result",
          "data": {
            "text/plain": [
              "(19098, 22)"
            ]
          },
          "metadata": {
            "tags": []
          },
          "execution_count": 207
        }
      ]
    },
    {
      "cell_type": "markdown",
      "metadata": {
        "id": "MYanamZgYQ_2",
        "colab_type": "text"
      },
      "source": [
        "Menghapus semua harga yang sama dengan 0\n"
      ]
    },
    {
      "cell_type": "code",
      "metadata": {
        "id": "TmzAsr5MYN6O",
        "colab_type": "code",
        "colab": {
          "base_uri": "https://localhost:8080/",
          "height": 34
        },
        "outputId": "3eb1b359-da1c-41cc-d5dd-66b3f78fbd99"
      },
      "source": [
        "df = df[df.price != 0]\n",
        "df.shape"
      ],
      "execution_count": 208,
      "outputs": [
        {
          "output_type": "execute_result",
          "data": {
            "text/plain": [
              "(16677, 22)"
            ]
          },
          "metadata": {
            "tags": []
          },
          "execution_count": 208
        }
      ]
    },
    {
      "cell_type": "code",
      "metadata": {
        "id": "4wqZkmCt2PgC",
        "colab_type": "code",
        "outputId": "f369a71c-bfe3-4bb9-da9b-16294365a477",
        "colab": {
          "base_uri": "https://localhost:8080/",
          "height": 34
        }
      },
      "source": [
        "df = df[df.price < 100000]\n",
        "df.shape"
      ],
      "execution_count": 209,
      "outputs": [
        {
          "output_type": "execute_result",
          "data": {
            "text/plain": [
              "(16669, 22)"
            ]
          },
          "metadata": {
            "tags": []
          },
          "execution_count": 209
        }
      ]
    },
    {
      "cell_type": "markdown",
      "metadata": {
        "id": "TkEitMLdYlac",
        "colab_type": "text"
      },
      "source": [
        "Menghapuskan sebagian data mobil dan hanya mobil dengan tahun di atas tahun 1985 yang tersisa\n"
      ]
    },
    {
      "cell_type": "code",
      "metadata": {
        "id": "X_zNkyZd2uNc",
        "colab_type": "code",
        "outputId": "033e0a76-1760-4e9f-844a-0f6c241b82aa",
        "colab": {
          "base_uri": "https://localhost:8080/",
          "height": 34
        }
      },
      "source": [
        "df = df[df.year > 1985]\n",
        "df.shape"
      ],
      "execution_count": 210,
      "outputs": [
        {
          "output_type": "execute_result",
          "data": {
            "text/plain": [
              "(16412, 22)"
            ]
          },
          "metadata": {
            "tags": []
          },
          "execution_count": 210
        }
      ]
    },
    {
      "cell_type": "markdown",
      "metadata": {
        "id": "x3qL6zpZYz0D",
        "colab_type": "text"
      },
      "source": [
        "Menghapuskan semua jarak tempuh di atas 1.000.000 Mil \n"
      ]
    },
    {
      "cell_type": "code",
      "metadata": {
        "id": "MQdAJHAT2vlH",
        "colab_type": "code",
        "outputId": "eb6edb27-9307-454b-83ff-e1ac0d060404",
        "colab": {
          "base_uri": "https://localhost:8080/",
          "height": 34
        }
      },
      "source": [
        "df.odometer.quantile(.999)"
      ],
      "execution_count": 211,
      "outputs": [
        {
          "output_type": "execute_result",
          "data": {
            "text/plain": [
              "1159338.6240000501"
            ]
          },
          "metadata": {
            "tags": []
          },
          "execution_count": 211
        }
      ]
    },
    {
      "cell_type": "code",
      "metadata": {
        "id": "C41WYAdr2w95",
        "colab_type": "code",
        "outputId": "4c6a0149-5ef9-4a50-e5bd-03baccbc6f0e",
        "colab": {
          "base_uri": "https://localhost:8080/",
          "height": 34
        }
      },
      "source": [
        "df = df[~(df.odometer > 500000)]\n",
        "df.shape"
      ],
      "execution_count": 212,
      "outputs": [
        {
          "output_type": "execute_result",
          "data": {
            "text/plain": [
              "(16384, 22)"
            ]
          },
          "metadata": {
            "tags": []
          },
          "execution_count": 212
        }
      ]
    },
    {
      "cell_type": "code",
      "metadata": {
        "id": "Q2PGhdvn21no",
        "colab_type": "code",
        "outputId": "40b8b61e-5a65-4f97-f978-fc775863f4d2",
        "colab": {
          "base_uri": "https://localhost:8080/",
          "height": 362
        }
      },
      "source": [
        "plt.figure(figsize=(3,6))\n",
        "sns.boxplot(y='odometer', data=df);"
      ],
      "execution_count": 213,
      "outputs": [
        {
          "output_type": "display_data",
          "data": {
            "image/png": "[encoded data removed]",
            "text/plain": [
              "<Figure size 216x432 with 1 Axes>"
            ]
          },
          "metadata": {
            "tags": [],
            "needs_background": "light"
          }
        }
      ]
    },
    {
      "cell_type": "code",
      "metadata": {
        "id": "XfPHwqyH23we",
        "colab_type": "code",
        "outputId": "181a7227-0dda-43e2-886c-e8a6edd8f4e7",
        "colab": {
          "base_uri": "https://localhost:8080/",
          "height": 34
        }
      },
      "source": [
        "df.shape"
      ],
      "execution_count": 214,
      "outputs": [
        {
          "output_type": "execute_result",
          "data": {
            "text/plain": [
              "(16384, 22)"
            ]
          },
          "metadata": {
            "tags": []
          },
          "execution_count": 214
        }
      ]
    },
    {
      "cell_type": "markdown",
      "metadata": {
        "id": "JGqAxSKcZGlh",
        "colab_type": "text"
      },
      "source": [
        ""
      ]
    },
    {
      "cell_type": "markdown",
      "metadata": {
        "id": "M_1p_s27ZNq7",
        "colab_type": "text"
      },
      "source": [
        "# Klasifikasi Linear Regression\n"
      ]
    },
    {
      "cell_type": "markdown",
      "metadata": {
        "id": "DznWtFwodDJw",
        "colab_type": "text"
      },
      "source": [
        "Klasifikasi linier mencapainya dengan membuat keputusan klasifikasi berdasarkan nilai kombinasi linear dari karakteristik. Karakteristik objek juga dikenal sebagai nilai fitur dan biasanya disajikan ke mesin dalam vektor yang disebut vektor fitur. \n",
        "Berikut ilustrasinya: \n",
        "\n",
        "![teks alternatif](https://images.app.goo.gl/A9p7Ri9bftuHtNK47)"
      ]
    },
    {
      "cell_type": "code",
      "metadata": {
        "id": "tlBA9o0Q27-E",
        "colab_type": "code",
        "colab": {}
      },
      "source": [
        "from sklearn.linear_model import LinearRegression\n",
        "from sklearn.metrics import mean_squared_error as MSE\n",
        "from sklearn.model_selection import train_test_split as split\n",
        "import warnings\n",
        "from sys import modules"
      ],
      "execution_count": 0,
      "outputs": []
    },
    {
      "cell_type": "code",
      "metadata": {
        "id": "1gIEw5Qe29YD",
        "colab_type": "code",
        "colab": {}
      },
      "source": [
        "df_to_learn = df[['odometer','year','price']]"
      ],
      "execution_count": 0,
      "outputs": []
    },
    {
      "cell_type": "code",
      "metadata": {
        "id": "W9HwT1ni2-Uw",
        "colab_type": "code",
        "outputId": "324939ff-2fe0-413b-dac4-f3853193fc72",
        "colab": {
          "base_uri": "https://localhost:8080/",
          "height": 34
        }
      },
      "source": [
        "df_to_learn = df_to_learn.dropna()\n",
        "df_to_learn.shape"
      ],
      "execution_count": 217,
      "outputs": [
        {
          "output_type": "execute_result",
          "data": {
            "text/plain": [
              "(15165, 3)"
            ]
          },
          "metadata": {
            "tags": []
          },
          "execution_count": 217
        }
      ]
    },
    {
      "cell_type": "code",
      "metadata": {
        "id": "r3xxucxo2_1p",
        "colab_type": "code",
        "colab": {}
      },
      "source": [
        "df_train, df_test = split(df_to_learn, train_size=0.6, random_state=4222)"
      ],
      "execution_count": 0,
      "outputs": []
    },
    {
      "cell_type": "code",
      "metadata": {
        "id": "JxHkaG5i3AyI",
        "colab_type": "code",
        "colab": {}
      },
      "source": [
        "X_train = df_train[['odometer','year']]\n",
        "y_train = df_train['price']"
      ],
      "execution_count": 0,
      "outputs": []
    },
    {
      "cell_type": "code",
      "metadata": {
        "id": "yTGyUbLo3ByA",
        "colab_type": "code",
        "colab": {}
      },
      "source": [
        "cars_lm = LinearRegression(fit_intercept=True)"
      ],
      "execution_count": 0,
      "outputs": []
    },
    {
      "cell_type": "code",
      "metadata": {
        "id": "SL99nVTG3DGb",
        "colab_type": "code",
        "outputId": "26376c2a-5246-40fc-dc2e-8f2e876081d8",
        "colab": {
          "base_uri": "https://localhost:8080/",
          "height": 34
        }
      },
      "source": [
        "cars_lm.fit(X_train, y_train)"
      ],
      "execution_count": 221,
      "outputs": [
        {
          "output_type": "execute_result",
          "data": {
            "text/plain": [
              "LinearRegression(copy_X=True, fit_intercept=True, n_jobs=None, normalize=False)"
            ]
          },
          "metadata": {
            "tags": []
          },
          "execution_count": 221
        }
      ]
    },
    {
      "cell_type": "code",
      "metadata": {
        "id": "_3kGnL2E3EYf",
        "colab_type": "code",
        "outputId": "cbea913c-e408-48a6-9bba-58ec859b74bd",
        "colab": {
          "base_uri": "https://localhost:8080/",
          "height": 52
        }
      },
      "source": [
        "print(\"The model intercept is: {}\".format(cars_lm.intercept_))\n",
        "print(\"The model coefficients are: {}\".format(cars_lm.coef_[0]))"
      ],
      "execution_count": 222,
      "outputs": [
        {
          "output_type": "stream",
          "text": [
            "The model intercept is: -1470524.7367435861\n",
            "The model coefficients are: -0.048806862341886595\n"
          ],
          "name": "stdout"
        }
      ]
    },
    {
      "cell_type": "code",
      "metadata": {
        "id": "PmZ7APrH3Fc0",
        "colab_type": "code",
        "outputId": "443b141e-346f-4766-e38e-9d24f7efb12a",
        "colab": {
          "base_uri": "https://localhost:8080/",
          "height": 202
        }
      },
      "source": [
        "X_train['Price_prediction'] = cars_lm.predict(X_train)\n",
        "X_train.head()"
      ],
      "execution_count": 223,
      "outputs": [
        {
          "output_type": "execute_result",
          "data": {
            "text/html": [
              "<div>\n",
              "<style scoped>\n",
              "    .dataframe tbody tr th:only-of-type {\n",
              "        vertical-align: middle;\n",
              "    }\n",
              "\n",
              "    .dataframe tbody tr th {\n",
              "        vertical-align: top;\n",
              "    }\n",
              "\n",
              "    .dataframe thead th {\n",
              "        text-align: right;\n",
              "    }\n",
              "</style>\n",
              "<table border=\"1\" class=\"dataframe\">\n",
              "  <thead>\n",
              "    <tr style=\"text-align: right;\">\n",
              "      <th></th>\n",
              "      <th>odometer</th>\n",
              "      <th>year</th>\n",
              "      <th>Price_prediction</th>\n",
              "    </tr>\n",
              "  </thead>\n",
              "  <tbody>\n",
              "    <tr>\n",
              "      <th>17101</th>\n",
              "      <td>165000.0</td>\n",
              "      <td>2005.0</td>\n",
              "      <td>6687.806415</td>\n",
              "    </tr>\n",
              "    <tr>\n",
              "      <th>7390</th>\n",
              "      <td>58941.0</td>\n",
              "      <td>2015.0</td>\n",
              "      <td>19272.022283</td>\n",
              "    </tr>\n",
              "    <tr>\n",
              "      <th>15019</th>\n",
              "      <td>126000.0</td>\n",
              "      <td>2009.0</td>\n",
              "      <td>11554.397588</td>\n",
              "    </tr>\n",
              "    <tr>\n",
              "      <th>876</th>\n",
              "      <td>159000.0</td>\n",
              "      <td>2012.0</td>\n",
              "      <td>12166.113787</td>\n",
              "    </tr>\n",
              "    <tr>\n",
              "      <th>11198</th>\n",
              "      <td>94700.0</td>\n",
              "      <td>2009.0</td>\n",
              "      <td>13082.052379</td>\n",
              "    </tr>\n",
              "  </tbody>\n",
              "</table>\n",
              "</div>"
            ],
            "text/plain": [
              "       odometer    year  Price_prediction\n",
              "17101  165000.0  2005.0       6687.806415\n",
              "7390    58941.0  2015.0      19272.022283\n",
              "15019  126000.0  2009.0      11554.397588\n",
              "876    159000.0  2012.0      12166.113787\n",
              "11198   94700.0  2009.0      13082.052379"
            ]
          },
          "metadata": {
            "tags": []
          },
          "execution_count": 223
        }
      ]
    },
    {
      "cell_type": "code",
      "metadata": {
        "id": "48P9RFiD3Gxs",
        "colab_type": "code",
        "outputId": "392b4ac6-46b4-40bc-fd78-59ce033a8df4",
        "colab": {
          "base_uri": "https://localhost:8080/",
          "height": 34
        }
      },
      "source": [
        "cars_train_rmse = np.sqrt(MSE(y_train, X_train['Price_prediction']))\n",
        "print(\"RMSE = {:.2f}\".format(cars_train_rmse))"
      ],
      "execution_count": 224,
      "outputs": [
        {
          "output_type": "stream",
          "text": [
            "RMSE = 8190.41\n"
          ],
          "name": "stdout"
        }
      ]
    },
    {
      "cell_type": "code",
      "metadata": {
        "id": "jBNmU2Af3IJu",
        "colab_type": "code",
        "colab": {}
      },
      "source": [
        "cars_lm_test = LinearRegression()"
      ],
      "execution_count": 0,
      "outputs": []
    },
    {
      "cell_type": "code",
      "metadata": {
        "id": "8eWFMpdA3JPA",
        "colab_type": "code",
        "colab": {}
      },
      "source": [
        "X_test = df_test[['odometer','year']]\n",
        "y_test = df_test['price']"
      ],
      "execution_count": 0,
      "outputs": []
    },
    {
      "cell_type": "code",
      "metadata": {
        "id": "hprzZLZ33J_f",
        "colab_type": "code",
        "outputId": "5a701d6f-9443-48cc-92a5-273251bba70b",
        "colab": {
          "base_uri": "https://localhost:8080/",
          "height": 34
        }
      },
      "source": [
        "cars_lm_test.fit(X_test, y_test)"
      ],
      "execution_count": 227,
      "outputs": [
        {
          "output_type": "execute_result",
          "data": {
            "text/plain": [
              "LinearRegression(copy_X=True, fit_intercept=True, n_jobs=None, normalize=False)"
            ]
          },
          "metadata": {
            "tags": []
          },
          "execution_count": 227
        }
      ]
    },
    {
      "cell_type": "code",
      "metadata": {
        "id": "xiTi8U-k3LBh",
        "colab_type": "code",
        "outputId": "d3d95be2-0ccb-460e-abf8-ff855c5c2ea2",
        "colab": {
          "base_uri": "https://localhost:8080/",
          "height": 202
        }
      },
      "source": [
        "X_test['price_prediction'] = cars_lm_test.predict(X_test)\n",
        "X_test.head()"
      ],
      "execution_count": 228,
      "outputs": [
        {
          "output_type": "execute_result",
          "data": {
            "text/html": [
              "<div>\n",
              "<style scoped>\n",
              "    .dataframe tbody tr th:only-of-type {\n",
              "        vertical-align: middle;\n",
              "    }\n",
              "\n",
              "    .dataframe tbody tr th {\n",
              "        vertical-align: top;\n",
              "    }\n",
              "\n",
              "    .dataframe thead th {\n",
              "        text-align: right;\n",
              "    }\n",
              "</style>\n",
              "<table border=\"1\" class=\"dataframe\">\n",
              "  <thead>\n",
              "    <tr style=\"text-align: right;\">\n",
              "      <th></th>\n",
              "      <th>odometer</th>\n",
              "      <th>year</th>\n",
              "      <th>price_prediction</th>\n",
              "    </tr>\n",
              "  </thead>\n",
              "  <tbody>\n",
              "    <tr>\n",
              "      <th>5843</th>\n",
              "      <td>126000.0</td>\n",
              "      <td>2008.0</td>\n",
              "      <td>10901.851101</td>\n",
              "    </tr>\n",
              "    <tr>\n",
              "      <th>19857</th>\n",
              "      <td>34844.0</td>\n",
              "      <td>2015.0</td>\n",
              "      <td>20628.304578</td>\n",
              "    </tr>\n",
              "    <tr>\n",
              "      <th>9714</th>\n",
              "      <td>64735.0</td>\n",
              "      <td>2013.0</td>\n",
              "      <td>17655.159550</td>\n",
              "    </tr>\n",
              "    <tr>\n",
              "      <th>19921</th>\n",
              "      <td>31550.0</td>\n",
              "      <td>2014.0</td>\n",
              "      <td>20062.417480</td>\n",
              "    </tr>\n",
              "    <tr>\n",
              "      <th>13479</th>\n",
              "      <td>62748.0</td>\n",
              "      <td>2014.0</td>\n",
              "      <td>18487.618631</td>\n",
              "    </tr>\n",
              "  </tbody>\n",
              "</table>\n",
              "</div>"
            ],
            "text/plain": [
              "       odometer    year  price_prediction\n",
              "5843   126000.0  2008.0      10901.851101\n",
              "19857   34844.0  2015.0      20628.304578\n",
              "9714    64735.0  2013.0      17655.159550\n",
              "19921   31550.0  2014.0      20062.417480\n",
              "13479   62748.0  2014.0      18487.618631"
            ]
          },
          "metadata": {
            "tags": []
          },
          "execution_count": 228
        }
      ]
    },
    {
      "cell_type": "code",
      "metadata": {
        "id": "5Joqy_tl3NCw",
        "colab_type": "code",
        "outputId": "f2db6210-35e0-4b8b-9d25-80036edc0753",
        "colab": {
          "base_uri": "https://localhost:8080/",
          "height": 34
        }
      },
      "source": [
        "cars_test_rmse = np.sqrt(MSE(y_test, X_test['price_prediction']))\n",
        "print(\"RMSE = {:.2f}\".format(cars_test_rmse))"
      ],
      "execution_count": 229,
      "outputs": [
        {
          "output_type": "stream",
          "text": [
            "RMSE = 8311.35\n"
          ],
          "name": "stdout"
        }
      ]
    },
    {
      "cell_type": "markdown",
      "metadata": {
        "id": "H5ujxZwgzFH4",
        "colab_type": "text"
      },
      "source": [
        "Melanjutkan dengan kesederhanaan - menambahkan parameter kategorikal dan mari kita lihat apakah prediksi membaik:\n",
        "\n",
        "kondisi\n",
        "\n",
        "title_status\n",
        "\n",
        "transmisi"
      ]
    },
    {
      "cell_type": "code",
      "metadata": {
        "id": "2A8AzFN43OXS",
        "colab_type": "code",
        "colab": {}
      },
      "source": [
        "df_to_learn2 = df[['odometer','year','price', 'transmission', 'title_status', 'condition']]"
      ],
      "execution_count": 0,
      "outputs": []
    },
    {
      "cell_type": "code",
      "metadata": {
        "id": "53LFjK6c3QHc",
        "colab_type": "code",
        "outputId": "0e557132-2c6c-4c59-eb42-6653ab309c9e",
        "colab": {
          "base_uri": "https://localhost:8080/",
          "height": 242
        }
      },
      "source": [
        "df_to_learn2.info()"
      ],
      "execution_count": 231,
      "outputs": [
        {
          "output_type": "stream",
          "text": [
            "<class 'pandas.core.frame.DataFrame'>\n",
            "Int64Index: 16384 entries, 0 to 20000\n",
            "Data columns (total 6 columns):\n",
            " #   Column        Non-Null Count  Dtype  \n",
            "---  ------        --------------  -----  \n",
            " 0   odometer      15165 non-null  float64\n",
            " 1   year          16384 non-null  float64\n",
            " 2   price         16384 non-null  int64  \n",
            " 3   transmission  16204 non-null  object \n",
            " 4   title_status  16292 non-null  object \n",
            " 5   condition     10118 non-null  object \n",
            "dtypes: float64(2), int64(1), object(3)\n",
            "memory usage: 896.0+ KB\n"
          ],
          "name": "stdout"
        }
      ]
    },
    {
      "cell_type": "markdown",
      "metadata": {
        "id": "nXGdRJ80zYZV",
        "colab_type": "text"
      },
      "source": [
        "Dari hal ini  dapat melihat bahwa kondisinya memiliki 200000 nans dan karena hal itu tidak akan menyertakan parameter ini"
      ]
    },
    {
      "cell_type": "code",
      "metadata": {
        "id": "EOlS4zmQ3Sft",
        "colab_type": "code",
        "outputId": "3bd45b85-b01e-45dd-f243-3a43cff1e9b2",
        "colab": {
          "base_uri": "https://localhost:8080/",
          "height": 34
        }
      },
      "source": [
        "df_to_learn2 = df[['odometer','year','price', 'transmission', 'title_status']]\n",
        "df_to_learn2 = df_to_learn2.dropna()\n",
        "df_to_learn2.shape"
      ],
      "execution_count": 232,
      "outputs": [
        {
          "output_type": "execute_result",
          "data": {
            "text/plain": [
              "(14894, 5)"
            ]
          },
          "metadata": {
            "tags": []
          },
          "execution_count": 232
        }
      ]
    },
    {
      "cell_type": "code",
      "metadata": {
        "id": "UatWZr1a3UIo",
        "colab_type": "code",
        "outputId": "65f56ec4-5b08-4cac-d734-80aa0726f980",
        "colab": {
          "base_uri": "https://localhost:8080/",
          "height": 202
        }
      },
      "source": [
        "df_to_learn2.head()"
      ],
      "execution_count": 233,
      "outputs": [
        {
          "output_type": "execute_result",
          "data": {
            "text/html": [
              "<div>\n",
              "<style scoped>\n",
              "    .dataframe tbody tr th:only-of-type {\n",
              "        vertical-align: middle;\n",
              "    }\n",
              "\n",
              "    .dataframe tbody tr th {\n",
              "        vertical-align: top;\n",
              "    }\n",
              "\n",
              "    .dataframe thead th {\n",
              "        text-align: right;\n",
              "    }\n",
              "</style>\n",
              "<table border=\"1\" class=\"dataframe\">\n",
              "  <thead>\n",
              "    <tr style=\"text-align: right;\">\n",
              "      <th></th>\n",
              "      <th>odometer</th>\n",
              "      <th>year</th>\n",
              "      <th>price</th>\n",
              "      <th>transmission</th>\n",
              "      <th>title_status</th>\n",
              "    </tr>\n",
              "  </thead>\n",
              "  <tbody>\n",
              "    <tr>\n",
              "      <th>0</th>\n",
              "      <td>63500.0</td>\n",
              "      <td>2012.0</td>\n",
              "      <td>17899</td>\n",
              "      <td>manual</td>\n",
              "      <td>clean</td>\n",
              "    </tr>\n",
              "    <tr>\n",
              "      <th>2</th>\n",
              "      <td>7554.0</td>\n",
              "      <td>2015.0</td>\n",
              "      <td>46463</td>\n",
              "      <td>automatic</td>\n",
              "      <td>clean</td>\n",
              "    </tr>\n",
              "    <tr>\n",
              "      <th>4</th>\n",
              "      <td>70150.0</td>\n",
              "      <td>2018.0</td>\n",
              "      <td>49999</td>\n",
              "      <td>automatic</td>\n",
              "      <td>clean</td>\n",
              "    </tr>\n",
              "    <tr>\n",
              "      <th>5</th>\n",
              "      <td>120057.0</td>\n",
              "      <td>2009.0</td>\n",
              "      <td>13999</td>\n",
              "      <td>automatic</td>\n",
              "      <td>clean</td>\n",
              "    </tr>\n",
              "    <tr>\n",
              "      <th>6</th>\n",
              "      <td>95484.0</td>\n",
              "      <td>2017.0</td>\n",
              "      <td>34500</td>\n",
              "      <td>automatic</td>\n",
              "      <td>clean</td>\n",
              "    </tr>\n",
              "  </tbody>\n",
              "</table>\n",
              "</div>"
            ],
            "text/plain": [
              "   odometer    year  price transmission title_status\n",
              "0   63500.0  2012.0  17899       manual        clean\n",
              "2    7554.0  2015.0  46463    automatic        clean\n",
              "4   70150.0  2018.0  49999    automatic        clean\n",
              "5  120057.0  2009.0  13999    automatic        clean\n",
              "6   95484.0  2017.0  34500    automatic        clean"
            ]
          },
          "metadata": {
            "tags": []
          },
          "execution_count": 233
        }
      ]
    },
    {
      "cell_type": "markdown",
      "metadata": {
        "id": "LxVWd4K6zpAR",
        "colab_type": "text"
      },
      "source": [
        "Inilah cara pertama untuk menetapkan dummies dalam categori value:"
      ]
    },
    {
      "cell_type": "code",
      "metadata": {
        "id": "2JvQ7ejV3WSj",
        "colab_type": "code",
        "colab": {}
      },
      "source": [
        "df_to_learn2['transmission_automatic'] = df_to_learn2['transmission'].apply(lambda x: 1 if x == 'automatic' else 0)\n",
        "df_to_learn2['transmission_manual'] = df_to_learn2['transmission'].apply(lambda x: 1 if x == 'manual' else 0)\n",
        "df_to_learn2['transmission_other'] = df_to_learn2['transmission'].apply(lambda x: 1 if x == 'other' else 0)"
      ],
      "execution_count": 0,
      "outputs": []
    },
    {
      "cell_type": "code",
      "metadata": {
        "id": "iGnM_dEb3YaR",
        "colab_type": "code",
        "outputId": "bf7b4aba-05cb-4924-c153-606808d4518d",
        "colab": {
          "base_uri": "https://localhost:8080/",
          "height": 222
        }
      },
      "source": [
        "df_to_learn2 = df_to_learn2.reset_index()\n",
        "df_to_learn2.head()"
      ],
      "execution_count": 235,
      "outputs": [
        {
          "output_type": "execute_result",
          "data": {
            "text/html": [
              "<div>\n",
              "<style scoped>\n",
              "    .dataframe tbody tr th:only-of-type {\n",
              "        vertical-align: middle;\n",
              "    }\n",
              "\n",
              "    .dataframe tbody tr th {\n",
              "        vertical-align: top;\n",
              "    }\n",
              "\n",
              "    .dataframe thead th {\n",
              "        text-align: right;\n",
              "    }\n",
              "</style>\n",
              "<table border=\"1\" class=\"dataframe\">\n",
              "  <thead>\n",
              "    <tr style=\"text-align: right;\">\n",
              "      <th></th>\n",
              "      <th>index</th>\n",
              "      <th>odometer</th>\n",
              "      <th>year</th>\n",
              "      <th>price</th>\n",
              "      <th>transmission</th>\n",
              "      <th>title_status</th>\n",
              "      <th>transmission_automatic</th>\n",
              "      <th>transmission_manual</th>\n",
              "      <th>transmission_other</th>\n",
              "    </tr>\n",
              "  </thead>\n",
              "  <tbody>\n",
              "    <tr>\n",
              "      <th>0</th>\n",
              "      <td>0</td>\n",
              "      <td>63500.0</td>\n",
              "      <td>2012.0</td>\n",
              "      <td>17899</td>\n",
              "      <td>manual</td>\n",
              "      <td>clean</td>\n",
              "      <td>0</td>\n",
              "      <td>1</td>\n",
              "      <td>0</td>\n",
              "    </tr>\n",
              "    <tr>\n",
              "      <th>1</th>\n",
              "      <td>2</td>\n",
              "      <td>7554.0</td>\n",
              "      <td>2015.0</td>\n",
              "      <td>46463</td>\n",
              "      <td>automatic</td>\n",
              "      <td>clean</td>\n",
              "      <td>1</td>\n",
              "      <td>0</td>\n",
              "      <td>0</td>\n",
              "    </tr>\n",
              "    <tr>\n",
              "      <th>2</th>\n",
              "      <td>4</td>\n",
              "      <td>70150.0</td>\n",
              "      <td>2018.0</td>\n",
              "      <td>49999</td>\n",
              "      <td>automatic</td>\n",
              "      <td>clean</td>\n",
              "      <td>1</td>\n",
              "      <td>0</td>\n",
              "      <td>0</td>\n",
              "    </tr>\n",
              "    <tr>\n",
              "      <th>3</th>\n",
              "      <td>5</td>\n",
              "      <td>120057.0</td>\n",
              "      <td>2009.0</td>\n",
              "      <td>13999</td>\n",
              "      <td>automatic</td>\n",
              "      <td>clean</td>\n",
              "      <td>1</td>\n",
              "      <td>0</td>\n",
              "      <td>0</td>\n",
              "    </tr>\n",
              "    <tr>\n",
              "      <th>4</th>\n",
              "      <td>6</td>\n",
              "      <td>95484.0</td>\n",
              "      <td>2017.0</td>\n",
              "      <td>34500</td>\n",
              "      <td>automatic</td>\n",
              "      <td>clean</td>\n",
              "      <td>1</td>\n",
              "      <td>0</td>\n",
              "      <td>0</td>\n",
              "    </tr>\n",
              "  </tbody>\n",
              "</table>\n",
              "</div>"
            ],
            "text/plain": [
              "   index  odometer  ...  transmission_manual  transmission_other\n",
              "0      0   63500.0  ...                    1                   0\n",
              "1      2    7554.0  ...                    0                   0\n",
              "2      4   70150.0  ...                    0                   0\n",
              "3      5  120057.0  ...                    0                   0\n",
              "4      6   95484.0  ...                    0                   0\n",
              "\n",
              "[5 rows x 9 columns]"
            ]
          },
          "metadata": {
            "tags": []
          },
          "execution_count": 235
        }
      ]
    },
    {
      "cell_type": "code",
      "metadata": {
        "id": "eztgj6b63a9s",
        "colab_type": "code",
        "colab": {}
      },
      "source": [
        "dum = pd.get_dummies(df_to_learn2['title_status']).reset_index()"
      ],
      "execution_count": 0,
      "outputs": []
    },
    {
      "cell_type": "code",
      "metadata": {
        "id": "12supx8b86NC",
        "colab_type": "code",
        "outputId": "3044b13a-250e-44f3-b343-1975ca34e505",
        "colab": {
          "base_uri": "https://localhost:8080/",
          "height": 202
        }
      },
      "source": [
        "dum.head()"
      ],
      "execution_count": 237,
      "outputs": [
        {
          "output_type": "execute_result",
          "data": {
            "text/html": [
              "<div>\n",
              "<style scoped>\n",
              "    .dataframe tbody tr th:only-of-type {\n",
              "        vertical-align: middle;\n",
              "    }\n",
              "\n",
              "    .dataframe tbody tr th {\n",
              "        vertical-align: top;\n",
              "    }\n",
              "\n",
              "    .dataframe thead th {\n",
              "        text-align: right;\n",
              "    }\n",
              "</style>\n",
              "<table border=\"1\" class=\"dataframe\">\n",
              "  <thead>\n",
              "    <tr style=\"text-align: right;\">\n",
              "      <th></th>\n",
              "      <th>index</th>\n",
              "      <th>clean</th>\n",
              "      <th>lien</th>\n",
              "      <th>missing</th>\n",
              "      <th>rebuilt</th>\n",
              "      <th>salvage</th>\n",
              "    </tr>\n",
              "  </thead>\n",
              "  <tbody>\n",
              "    <tr>\n",
              "      <th>0</th>\n",
              "      <td>0</td>\n",
              "      <td>1</td>\n",
              "      <td>0</td>\n",
              "      <td>0</td>\n",
              "      <td>0</td>\n",
              "      <td>0</td>\n",
              "    </tr>\n",
              "    <tr>\n",
              "      <th>1</th>\n",
              "      <td>1</td>\n",
              "      <td>1</td>\n",
              "      <td>0</td>\n",
              "      <td>0</td>\n",
              "      <td>0</td>\n",
              "      <td>0</td>\n",
              "    </tr>\n",
              "    <tr>\n",
              "      <th>2</th>\n",
              "      <td>2</td>\n",
              "      <td>1</td>\n",
              "      <td>0</td>\n",
              "      <td>0</td>\n",
              "      <td>0</td>\n",
              "      <td>0</td>\n",
              "    </tr>\n",
              "    <tr>\n",
              "      <th>3</th>\n",
              "      <td>3</td>\n",
              "      <td>1</td>\n",
              "      <td>0</td>\n",
              "      <td>0</td>\n",
              "      <td>0</td>\n",
              "      <td>0</td>\n",
              "    </tr>\n",
              "    <tr>\n",
              "      <th>4</th>\n",
              "      <td>4</td>\n",
              "      <td>1</td>\n",
              "      <td>0</td>\n",
              "      <td>0</td>\n",
              "      <td>0</td>\n",
              "      <td>0</td>\n",
              "    </tr>\n",
              "  </tbody>\n",
              "</table>\n",
              "</div>"
            ],
            "text/plain": [
              "   index  clean  lien  missing  rebuilt  salvage\n",
              "0      0      1     0        0        0        0\n",
              "1      1      1     0        0        0        0\n",
              "2      2      1     0        0        0        0\n",
              "3      3      1     0        0        0        0\n",
              "4      4      1     0        0        0        0"
            ]
          },
          "metadata": {
            "tags": []
          },
          "execution_count": 237
        }
      ]
    },
    {
      "cell_type": "code",
      "metadata": {
        "id": "agA9foF53e0v",
        "colab_type": "code",
        "colab": {}
      },
      "source": [
        "df_to_learn2 = pd.merge(df_to_learn2, dum, on='index')\n",
        "df_to_learn2 = df_to_learn2.drop(columns=['index', 'transmission', 'title_status'])"
      ],
      "execution_count": 0,
      "outputs": []
    },
    {
      "cell_type": "code",
      "metadata": {
        "id": "HH-RJbeL6ywn",
        "colab_type": "code",
        "outputId": "b0013819-9eb7-4732-b1eb-65815317cf64",
        "colab": {
          "base_uri": "https://localhost:8080/",
          "height": 222
        }
      },
      "source": [
        "df_to_learn2.head()"
      ],
      "execution_count": 239,
      "outputs": [
        {
          "output_type": "execute_result",
          "data": {
            "text/html": [
              "<div>\n",
              "<style scoped>\n",
              "    .dataframe tbody tr th:only-of-type {\n",
              "        vertical-align: middle;\n",
              "    }\n",
              "\n",
              "    .dataframe tbody tr th {\n",
              "        vertical-align: top;\n",
              "    }\n",
              "\n",
              "    .dataframe thead th {\n",
              "        text-align: right;\n",
              "    }\n",
              "</style>\n",
              "<table border=\"1\" class=\"dataframe\">\n",
              "  <thead>\n",
              "    <tr style=\"text-align: right;\">\n",
              "      <th></th>\n",
              "      <th>odometer</th>\n",
              "      <th>year</th>\n",
              "      <th>price</th>\n",
              "      <th>transmission_automatic</th>\n",
              "      <th>transmission_manual</th>\n",
              "      <th>transmission_other</th>\n",
              "      <th>clean</th>\n",
              "      <th>lien</th>\n",
              "      <th>missing</th>\n",
              "      <th>rebuilt</th>\n",
              "      <th>salvage</th>\n",
              "    </tr>\n",
              "  </thead>\n",
              "  <tbody>\n",
              "    <tr>\n",
              "      <th>0</th>\n",
              "      <td>63500.0</td>\n",
              "      <td>2012.0</td>\n",
              "      <td>17899</td>\n",
              "      <td>0</td>\n",
              "      <td>1</td>\n",
              "      <td>0</td>\n",
              "      <td>1</td>\n",
              "      <td>0</td>\n",
              "      <td>0</td>\n",
              "      <td>0</td>\n",
              "      <td>0</td>\n",
              "    </tr>\n",
              "    <tr>\n",
              "      <th>1</th>\n",
              "      <td>7554.0</td>\n",
              "      <td>2015.0</td>\n",
              "      <td>46463</td>\n",
              "      <td>1</td>\n",
              "      <td>0</td>\n",
              "      <td>0</td>\n",
              "      <td>1</td>\n",
              "      <td>0</td>\n",
              "      <td>0</td>\n",
              "      <td>0</td>\n",
              "      <td>0</td>\n",
              "    </tr>\n",
              "    <tr>\n",
              "      <th>2</th>\n",
              "      <td>70150.0</td>\n",
              "      <td>2018.0</td>\n",
              "      <td>49999</td>\n",
              "      <td>1</td>\n",
              "      <td>0</td>\n",
              "      <td>0</td>\n",
              "      <td>1</td>\n",
              "      <td>0</td>\n",
              "      <td>0</td>\n",
              "      <td>0</td>\n",
              "      <td>0</td>\n",
              "    </tr>\n",
              "    <tr>\n",
              "      <th>3</th>\n",
              "      <td>120057.0</td>\n",
              "      <td>2009.0</td>\n",
              "      <td>13999</td>\n",
              "      <td>1</td>\n",
              "      <td>0</td>\n",
              "      <td>0</td>\n",
              "      <td>1</td>\n",
              "      <td>0</td>\n",
              "      <td>0</td>\n",
              "      <td>0</td>\n",
              "      <td>0</td>\n",
              "    </tr>\n",
              "    <tr>\n",
              "      <th>4</th>\n",
              "      <td>95484.0</td>\n",
              "      <td>2017.0</td>\n",
              "      <td>34500</td>\n",
              "      <td>1</td>\n",
              "      <td>0</td>\n",
              "      <td>0</td>\n",
              "      <td>1</td>\n",
              "      <td>0</td>\n",
              "      <td>0</td>\n",
              "      <td>0</td>\n",
              "      <td>0</td>\n",
              "    </tr>\n",
              "  </tbody>\n",
              "</table>\n",
              "</div>"
            ],
            "text/plain": [
              "   odometer    year  price  ...  missing  rebuilt  salvage\n",
              "0   63500.0  2012.0  17899  ...        0        0        0\n",
              "1    7554.0  2015.0  46463  ...        0        0        0\n",
              "2   70150.0  2018.0  49999  ...        0        0        0\n",
              "3  120057.0  2009.0  13999  ...        0        0        0\n",
              "4   95484.0  2017.0  34500  ...        0        0        0\n",
              "\n",
              "[5 rows x 11 columns]"
            ]
          },
          "metadata": {
            "tags": []
          },
          "execution_count": 239
        }
      ]
    },
    {
      "cell_type": "code",
      "metadata": {
        "id": "GhcoIbuy62xf",
        "colab_type": "code",
        "outputId": "fa1abfbd-12c3-43a0-b8b1-02c8c5b590d3",
        "colab": {
          "base_uri": "https://localhost:8080/",
          "height": 34
        }
      },
      "source": [
        "df_train2, df_test2 = split(df_to_learn2, train_size=0.6, random_state=4222)\n",
        "X_train2 = df_train2[['odometer','year', 'transmission_automatic', 'transmission_manual', 'transmission_other', 'clean', 'lien', 'missing',  'rebuilt', 'salvage']]\n",
        "y_train2 = df_train2['price']\n",
        "cars_lm2 = LinearRegression(fit_intercept=True)\n",
        "cars_lm2.fit(X_train2, y_train2)"
      ],
      "execution_count": 240,
      "outputs": [
        {
          "output_type": "execute_result",
          "data": {
            "text/plain": [
              "LinearRegression(copy_X=True, fit_intercept=True, n_jobs=None, normalize=False)"
            ]
          },
          "metadata": {
            "tags": []
          },
          "execution_count": 240
        }
      ]
    },
    {
      "cell_type": "code",
      "metadata": {
        "id": "9uNaU2eV63Wy",
        "colab_type": "code",
        "outputId": "03ae0133-4c0a-4623-fe1e-2d23f9e09e12",
        "colab": {
          "base_uri": "https://localhost:8080/",
          "height": 69
        }
      },
      "source": [
        "print(\"The model intercept is: {}\".format(cars_lm2.intercept_))\n",
        "print(\"The model coefficients are: {}\".format(cars_lm2.coef_[0]))\n",
        "X_train2['Price_prediction'] = cars_lm2.predict(X_train2)\n",
        "cars_train_rmse2 = np.sqrt(MSE(y_train2, X_train2['Price_prediction']))\n",
        "print(\"RMSE = {:.2f}\".format(cars_train_rmse2))"
      ],
      "execution_count": 241,
      "outputs": [
        {
          "output_type": "stream",
          "text": [
            "The model intercept is: -1312688.0253320513\n",
            "The model coefficients are: -0.04449372376466743\n",
            "RMSE = 7747.79\n"
          ],
          "name": "stdout"
        }
      ]
    },
    {
      "cell_type": "code",
      "metadata": {
        "id": "zXHr3lVh67eo",
        "colab_type": "code",
        "outputId": "35de0bfb-a286-4a9b-85a9-793ad7793457",
        "colab": {
          "base_uri": "https://localhost:8080/",
          "height": 34
        }
      },
      "source": [
        "cars_lm_test2 = LinearRegression()\n",
        "X_test2 = df_test2[['odometer','year', 'transmission_automatic', 'transmission_manual', 'transmission_other', 'clean', 'lien', 'missing', 'rebuilt', 'salvage']]\n",
        "y_test2 = df_test2['price']\n",
        "cars_lm_test2.fit(X_test2, y_test2)\n",
        "X_test2['price_prediction'] = cars_lm_test2.predict(X_test2)\n",
        "X_test2.head()\n",
        "cars_test_rmse2 = np.sqrt(MSE(y_test2, X_test2['price_prediction']))\n",
        "print(\"RMSE = {:.2f}\".format(cars_test_rmse2))"
      ],
      "execution_count": 242,
      "outputs": [
        {
          "output_type": "stream",
          "text": [
            "RMSE = 7814.81\n"
          ],
          "name": "stdout"
        }
      ]
    },
    {
      "cell_type": "markdown",
      "metadata": {
        "id": "eHVBEXwl13au",
        "colab_type": "text"
      },
      "source": [
        "# Klasifikasi KNN \n"
      ]
    },
    {
      "cell_type": "markdown",
      "metadata": {
        "id": "ky_zh8Va1-VQ",
        "colab_type": "text"
      },
      "source": [
        "dilanjutkan dengan menerapkan KNN regresi yang dimana akan memperjlas klasifikasi."
      ]
    },
    {
      "cell_type": "code",
      "metadata": {
        "id": "QTkWcWuB696f",
        "colab_type": "code",
        "colab": {}
      },
      "source": [
        "from sklearn.neighbors import KNeighborsRegressor\n",
        "from sklearn.metrics import classification_report, confusion_matrix\n",
        "from sklearn.metrics import pairwise_distances\n",
        "from sklearn import neighbors\n",
        "from math import sqrt\n",
        "from sklearn.metrics import mean_squared_error "
      ],
      "execution_count": 0,
      "outputs": []
    },
    {
      "cell_type": "code",
      "metadata": {
        "id": "Ag7abeCn6_UM",
        "colab_type": "code",
        "colab": {}
      },
      "source": [
        "df_knn_train, df_knn_test = split(df_to_learn, train_size=0.6, random_state=4222)\n",
        "X_first = df_knn_train.drop('price', axis=1)\n",
        "y_first = df_knn_train['price']\n",
        "\n",
        "X_second = df_knn_test.drop('price', axis=1)\n",
        "y_second = df_knn_test['price']"
      ],
      "execution_count": 0,
      "outputs": []
    },
    {
      "cell_type": "markdown",
      "metadata": {
        "id": "nTxkDPqN2UOv",
        "colab_type": "text"
      },
      "source": [
        "Preprocessing – Scaling fitur"
      ]
    },
    {
      "cell_type": "code",
      "metadata": {
        "id": "uh5AHpKO7ASC",
        "colab_type": "code",
        "colab": {}
      },
      "source": [
        "from sklearn.preprocessing import MinMaxScaler\n",
        "scaler = MinMaxScaler(feature_range=(0, 1))\n",
        "\n",
        "X_first_scaled = scaler.fit_transform(X_first)\n",
        "X_first = pd.DataFrame(X_first_scaled)\n",
        "\n",
        "X_second_scaled = scaler.fit_transform(X_second)\n",
        "X_second = pd.DataFrame(X_second_scaled)"
      ],
      "execution_count": 0,
      "outputs": []
    },
    {
      "cell_type": "markdown",
      "metadata": {
        "id": "QGfH4o7a2d-K",
        "colab_type": "text"
      },
      "source": [
        "Melihat pada tingkat error untuk nilai k yang berbeda"
      ]
    },
    {
      "cell_type": "code",
      "metadata": {
        "colab_type": "code",
        "outputId": "39103428-c4a1-4db4-d5d5-29055dbd195a",
        "id": "i5Wzo3NbNOIW",
        "colab": {
          "base_uri": "https://localhost:8080/",
          "height": 364
        }
      },
      "source": [
        "rmse_val2 = [] #to store rmse values for different k\n",
        "for K in range(20):\n",
        "    K += 1\n",
        "    model = neighbors.KNeighborsRegressor(n_neighbors = K)\n",
        "\n",
        "    model.fit(X_first, y_first)  #fit the model\n",
        "    pred=model.predict(X_second) #make prediction on test set\n",
        "    error = sqrt(mean_squared_error(y_second, pred)) #calculate rmse\n",
        "    rmse_val2.append(error) #store rmse values\n",
        "    print('RMSE value for k= ' , K , 'is:', error)"
      ],
      "execution_count": 246,
      "outputs": [
        {
          "output_type": "stream",
          "text": [
            "RMSE value for k=  1 is: 11002.07630581929\n",
            "RMSE value for k=  2 is: 9827.433978299749\n",
            "RMSE value for k=  3 is: 9484.114898082247\n",
            "RMSE value for k=  4 is: 9226.263107377648\n",
            "RMSE value for k=  5 is: 9057.842511328676\n",
            "RMSE value for k=  6 is: 8890.596796395523\n",
            "RMSE value for k=  7 is: 8728.824163924663\n",
            "RMSE value for k=  8 is: 8621.506146300615\n",
            "RMSE value for k=  9 is: 8541.69918742592\n",
            "RMSE value for k=  10 is: 8481.474442145533\n",
            "RMSE value for k=  11 is: 8431.808517738871\n",
            "RMSE value for k=  12 is: 8406.954391036092\n",
            "RMSE value for k=  13 is: 8358.633314161596\n",
            "RMSE value for k=  14 is: 8327.99702751274\n",
            "RMSE value for k=  15 is: 8312.555297744922\n",
            "RMSE value for k=  16 is: 8297.195528383943\n",
            "RMSE value for k=  17 is: 8269.08240076524\n",
            "RMSE value for k=  18 is: 8254.331759941746\n",
            "RMSE value for k=  19 is: 8237.156227626221\n",
            "RMSE value for k=  20 is: 8222.315414224615\n"
          ],
          "name": "stdout"
        }
      ]
    },
    {
      "cell_type": "markdown",
      "metadata": {
        "id": "9NyiQm113Dmn",
        "colab_type": "text"
      },
      "source": [
        "**Bagian ini akan melihat nilai 4 -7 akan menjadi bagian yang prediksi yang error**"
      ]
    },
    {
      "cell_type": "markdown",
      "metadata": {
        "id": "JiHjakXo3OBE",
        "colab_type": "text"
      },
      "source": [
        "RMSE juga jauh lebih signifikan dengan regresi linier sederhana"
      ]
    },
    {
      "cell_type": "code",
      "metadata": {
        "id": "aotvhwQV7F6G",
        "colab_type": "code",
        "colab": {}
      },
      "source": [
        "df_knn_train2, df_knn_test2 = split(df_to_learn2, train_size=0.6, random_state=4222)\n",
        "X_first2 = df_knn_train2.drop('price', axis=1)\n",
        "y_first2 = df_knn_train2['price']\n",
        "\n",
        "X_second2 = df_knn_test2.drop('price', axis=1)\n",
        "y_second2 = df_knn_test2['price']"
      ],
      "execution_count": 0,
      "outputs": []
    },
    {
      "cell_type": "code",
      "metadata": {
        "id": "d1nZb_KY7HKZ",
        "colab_type": "code",
        "colab": {}
      },
      "source": [
        "scaler = MinMaxScaler(feature_range=(0, 1))\n",
        "\n",
        "X_first_scaled2 = scaler.fit_transform(X_first2)\n",
        "X_first2 = pd.DataFrame(X_first_scaled2)\n",
        "\n",
        "X_second_scaled2 = scaler.fit_transform(X_second2)\n",
        "X_second2 = pd.DataFrame(X_second_scaled2)"
      ],
      "execution_count": 0,
      "outputs": []
    },
    {
      "cell_type": "code",
      "metadata": {
        "id": "7cSIdjtU7JRV",
        "colab_type": "code",
        "outputId": "76eaac6c-dac4-4691-e6bc-4324e3fb709e",
        "colab": {
          "base_uri": "https://localhost:8080/",
          "height": 104
        }
      },
      "source": [
        "rmse_val3 = [] \n",
        "K = 2\n",
        "for i in range(5):\n",
        "    K += 1\n",
        "    model2 = neighbors.KNeighborsRegressor(n_neighbors = K)\n",
        "    model2.fit(X_first2, y_first2)  \n",
        "    pred2=model2.predict(X_second2) \n",
        "    error2 = sqrt(mean_squared_error(y_second2, pred2)) \n",
        "    rmse_val3.append(error2) \n",
        "    print('RMSE value for k= ' , K , 'is:', error2)"
      ],
      "execution_count": 249,
      "outputs": [
        {
          "output_type": "stream",
          "text": [
            "RMSE value for k=  3 is: 9468.265504959676\n",
            "RMSE value for k=  4 is: 9010.952164770377\n",
            "RMSE value for k=  5 is: 8729.193999098705\n",
            "RMSE value for k=  6 is: 8531.540141516343\n",
            "RMSE value for k=  7 is: 8332.383312887561\n"
          ],
          "name": "stdout"
        }
      ]
    },
    {
      "cell_type": "code",
      "metadata": {
        "id": "y2DtkbE66hWD",
        "colab_type": "code",
        "colab": {}
      },
      "source": [
        "from sklearn.metrics import accuracy_score\n",
        "accuracy= accuracy_score(y_test, K)\n",
        "accuracy"
      ],
      "execution_count": 0,
      "outputs": []
    },
    {
      "cell_type": "markdown",
      "metadata": {
        "id": "Nsne9h2B4GHr",
        "colab_type": "text"
      },
      "source": [
        "# Kesimpulan"
      ]
    },
    {
      "cell_type": "markdown",
      "metadata": {
        "id": "y1cf5tVX4I-O",
        "colab_type": "text"
      },
      "source": [
        "Setelah data sudah ditrain juga di test pada data testing, dengan pertama menggukana metode reggresi linier dan KNN.\n",
        "Terlihat bahwa dari 20 data RMSE tersebut bisa melihat data yang error maupun tidak.\n",
        "Pada hasil terkahir diman semua data akhiri dengan akurasinya yang dimana menghasilkan 83%."
      ]
    }
  ]
}