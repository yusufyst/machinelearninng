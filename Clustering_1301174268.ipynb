{
  "nbformat": 4,
  "nbformat_minor": 0,
  "metadata": {
    "colab": {
      "name": "Clustering_1301174268.ipynb",
      "provenance": [],
      "collapsed_sections": []
    },
    "kernelspec": {
      "name": "python3",
      "display_name": "Python 3"
    }
  },
  "cells": [
    {
      "cell_type": "markdown",
      "metadata": {
        "id": "j0zwHLEw7kYg",
        "colab_type": "text"
      },
      "source": [
        "NAMA : Yusuf Surya Tryantono\n",
        "\n",
        "NIM : 1301174268 ; Kelas : IF 41-12\n",
        "\n",
        "\n",
        "---\n",
        "\n"
      ]
    },
    {
      "cell_type": "markdown",
      "metadata": {
        "id": "NRnaVKPU7psG",
        "colab_type": "text"
      },
      "source": [
        "Metode yang digunakan ialah metode K-means yang dimana dalah tipe learning di mana kita hanya mempunyai data masukan (input data) tetapi tidak ada output variable yang berhubungan.\n",
        "\n",
        "\n",
        "Goal dari unsupervised learning adalah untuk memodelkan struktur dasar atau distribusi dalam data dengan tujuan untuk mempelajari data lebih jauh lagi, dengan kata lain, adalah menyimpulkan fungsi yang mendeskripsikan atau menjelaskan data.\n",
        "Berbeda dengan supervised learning, di sini tidak ada jawaban yang ‘dibenarkan secara terarah’ dan tidak ada ‘guru’. Algoritma dibiarkan dengan rancangannya sendiri untuk mengetahui dan menyajikan struktur menarik yang ada dalam data.\n",
        "\n"
      ]
    },
    {
      "cell_type": "markdown",
      "metadata": {
        "id": "GAPma36u9jKR",
        "colab_type": "text"
      },
      "source": [
        "# Upload Dataset"
      ]
    },
    {
      "cell_type": "markdown",
      "metadata": {
        "id": "tprZKjRT9vZQ",
        "colab_type": "text"
      },
      "source": [
        "Pada permodelan clustering kali ini diberikan dua eksperimen yang berbeda terhadap model dengan membedakan fitur yang diambil dari dataset 3 \"used_cars\"\n",
        "\n",
        "Pada eksperimen ini, fitur clustering yang dipakai ialah \"year\" dan \"odometer\". Odometer yang dimana merupakan jarak tempuh jauh mobil dalam masa pemakaian, sementara year ialah waktu lamanya dipakai mobil itu oleh pemiliknya."
      ]
    },
    {
      "cell_type": "markdown",
      "metadata": {
        "id": "-x0v_UpP-LCx",
        "colab_type": "text"
      },
      "source": [
        "**Libray yang akan digunakan**"
      ]
    },
    {
      "cell_type": "code",
      "metadata": {
        "id": "-5bGANp77hiE",
        "colab_type": "code",
        "colab": {}
      },
      "source": [
        "import pandas as pd\n",
        "import numpy as np\n",
        "import matplotlib.pyplot as plt\n",
        "import seaborn as sns\n",
        "import missingno as msno\n",
        "import warnings\n",
        "from copy import deepcopy\n",
        "from pandas.plotting import scatter_matrix\n",
        "from sklearn import datasets, linear_model\n",
        "from sklearn.model_selection import train_test_split\n",
        "from sklearn.impute import SimpleImputer\n",
        "from sklearn.cluster import KMeans\n",
        "import random as rd\n",
        "warnings.filterwarnings('ignore')\n",
        "%matplotlib inline"
      ],
      "execution_count": 0,
      "outputs": []
    },
    {
      "cell_type": "markdown",
      "metadata": {
        "id": "PyLemsKS-Rhw",
        "colab_type": "text"
      },
      "source": [
        "Baca Dataset"
      ]
    },
    {
      "cell_type": "code",
      "metadata": {
        "id": "uPXx9ACnqNdT",
        "colab_type": "code",
        "colab": {}
      },
      "source": [
        "df = pd.read_csv('used_cars.csv')"
      ],
      "execution_count": 0,
      "outputs": []
    },
    {
      "cell_type": "code",
      "metadata": {
        "id": "rEgUXlSKqPA7",
        "colab_type": "code",
        "outputId": "60acfc23-bc69-4fc9-b765-959d31c67d0d",
        "colab": {
          "base_uri": "https://localhost:8080/",
          "height": 1000
        }
      },
      "source": [
        "df.info()\n",
        "df.head()"
      ],
      "execution_count": 122,
      "outputs": [
        {
          "output_type": "stream",
          "text": [
            "<class 'pandas.core.frame.DataFrame'>\n",
            "RangeIndex: 926 entries, 0 to 925\n",
            "Data columns (total 26 columns):\n",
            " #   Column        Non-Null Count  Dtype  \n",
            "---  ------        --------------  -----  \n",
            " 0   Unnamed: 0    926 non-null    int64  \n",
            " 1   id            926 non-null    int64  \n",
            " 2   url           926 non-null    object \n",
            " 3   region        926 non-null    object \n",
            " 4   region_url    926 non-null    object \n",
            " 5   price         926 non-null    int64  \n",
            " 6   year          915 non-null    float64\n",
            " 7   manufacturer  882 non-null    object \n",
            " 8   model         916 non-null    object \n",
            " 9   condition     470 non-null    object \n",
            " 10  cylinders     691 non-null    object \n",
            " 11  fuel          905 non-null    object \n",
            " 12  odometer      797 non-null    float64\n",
            " 13  title_status  913 non-null    object \n",
            " 14  transmission  920 non-null    object \n",
            " 15  vin           634 non-null    object \n",
            " 16  drive         763 non-null    object \n",
            " 17  size          256 non-null    object \n",
            " 18  type          743 non-null    object \n",
            " 19  paint_color   715 non-null    object \n",
            " 20  image_url     925 non-null    object \n",
            " 21  description   925 non-null    object \n",
            " 22  county        0 non-null      float64\n",
            " 23  state         925 non-null    object \n",
            " 24  lat           901 non-null    float64\n",
            " 25  long          901 non-null    float64\n",
            "dtypes: float64(5), int64(3), object(18)\n",
            "memory usage: 188.2+ KB\n"
          ],
          "name": "stdout"
        },
        {
          "output_type": "execute_result",
          "data": {
            "text/html": [
              "<div>\n",
              "<style scoped>\n",
              "    .dataframe tbody tr th:only-of-type {\n",
              "        vertical-align: middle;\n",
              "    }\n",
              "\n",
              "    .dataframe tbody tr th {\n",
              "        vertical-align: top;\n",
              "    }\n",
              "\n",
              "    .dataframe thead th {\n",
              "        text-align: right;\n",
              "    }\n",
              "</style>\n",
              "<table border=\"1\" class=\"dataframe\">\n",
              "  <thead>\n",
              "    <tr style=\"text-align: right;\">\n",
              "      <th></th>\n",
              "      <th>Unnamed: 0</th>\n",
              "      <th>id</th>\n",
              "      <th>url</th>\n",
              "      <th>region</th>\n",
              "      <th>region_url</th>\n",
              "      <th>price</th>\n",
              "      <th>year</th>\n",
              "      <th>manufacturer</th>\n",
              "      <th>model</th>\n",
              "      <th>condition</th>\n",
              "      <th>cylinders</th>\n",
              "      <th>fuel</th>\n",
              "      <th>odometer</th>\n",
              "      <th>title_status</th>\n",
              "      <th>transmission</th>\n",
              "      <th>vin</th>\n",
              "      <th>drive</th>\n",
              "      <th>size</th>\n",
              "      <th>type</th>\n",
              "      <th>paint_color</th>\n",
              "      <th>image_url</th>\n",
              "      <th>description</th>\n",
              "      <th>county</th>\n",
              "      <th>state</th>\n",
              "      <th>lat</th>\n",
              "      <th>long</th>\n",
              "    </tr>\n",
              "  </thead>\n",
              "  <tbody>\n",
              "    <tr>\n",
              "      <th>0</th>\n",
              "      <td>0</td>\n",
              "      <td>7034441763</td>\n",
              "      <td>https://saltlakecity.craigslist.org/cto/d/salt...</td>\n",
              "      <td>salt lake city</td>\n",
              "      <td>https://saltlakecity.craigslist.org</td>\n",
              "      <td>17899</td>\n",
              "      <td>2012.0</td>\n",
              "      <td>volkswagen</td>\n",
              "      <td>golf r</td>\n",
              "      <td>excellent</td>\n",
              "      <td>4 cylinders</td>\n",
              "      <td>gas</td>\n",
              "      <td>63500.0</td>\n",
              "      <td>clean</td>\n",
              "      <td>manual</td>\n",
              "      <td>WVWPF7AJ6CW316713</td>\n",
              "      <td>4wd</td>\n",
              "      <td>compact</td>\n",
              "      <td>hatchback</td>\n",
              "      <td>black</td>\n",
              "      <td>https://images.craigslist.org/00G0G_fTLDWM5Xyv...</td>\n",
              "      <td>PRICE REDUCED!   -Garage kept -Low Miles (63K)...</td>\n",
              "      <td>NaN</td>\n",
              "      <td>ut</td>\n",
              "      <td>40.7372</td>\n",
              "      <td>-111.858</td>\n",
              "    </tr>\n",
              "    <tr>\n",
              "      <th>1</th>\n",
              "      <td>1</td>\n",
              "      <td>7034440610</td>\n",
              "      <td>https://saltlakecity.craigslist.org/ctd/d/sand...</td>\n",
              "      <td>salt lake city</td>\n",
              "      <td>https://saltlakecity.craigslist.org</td>\n",
              "      <td>0</td>\n",
              "      <td>2016.0</td>\n",
              "      <td>ford</td>\n",
              "      <td>f-150</td>\n",
              "      <td>excellent</td>\n",
              "      <td>NaN</td>\n",
              "      <td>gas</td>\n",
              "      <td>10.0</td>\n",
              "      <td>clean</td>\n",
              "      <td>automatic</td>\n",
              "      <td>1FTMF1EP3GKF13544</td>\n",
              "      <td>4wd</td>\n",
              "      <td>NaN</td>\n",
              "      <td>NaN</td>\n",
              "      <td>NaN</td>\n",
              "      <td>https://images.craigslist.org/00v0v_7Cu0buIofU...</td>\n",
              "      <td>Drive it home today. Call (Or Text) us now !!C...</td>\n",
              "      <td>NaN</td>\n",
              "      <td>ut</td>\n",
              "      <td>40.5881</td>\n",
              "      <td>-111.884</td>\n",
              "    </tr>\n",
              "    <tr>\n",
              "      <th>2</th>\n",
              "      <td>2</td>\n",
              "      <td>7034440588</td>\n",
              "      <td>https://saltlakecity.craigslist.org/ctd/d/sand...</td>\n",
              "      <td>salt lake city</td>\n",
              "      <td>https://saltlakecity.craigslist.org</td>\n",
              "      <td>46463</td>\n",
              "      <td>2015.0</td>\n",
              "      <td>gmc</td>\n",
              "      <td>sierra 1500</td>\n",
              "      <td>excellent</td>\n",
              "      <td>NaN</td>\n",
              "      <td>gas</td>\n",
              "      <td>7554.0</td>\n",
              "      <td>clean</td>\n",
              "      <td>automatic</td>\n",
              "      <td>3GTU2WEC6FG228025</td>\n",
              "      <td>4wd</td>\n",
              "      <td>NaN</td>\n",
              "      <td>NaN</td>\n",
              "      <td>white</td>\n",
              "      <td>https://images.craigslist.org/01515_lPvJ9bfbdY...</td>\n",
              "      <td>Drive it home today. Call (Or Text) us now !!C...</td>\n",
              "      <td>NaN</td>\n",
              "      <td>ut</td>\n",
              "      <td>40.5881</td>\n",
              "      <td>-111.884</td>\n",
              "    </tr>\n",
              "    <tr>\n",
              "      <th>3</th>\n",
              "      <td>3</td>\n",
              "      <td>7034440546</td>\n",
              "      <td>https://saltlakecity.craigslist.org/ctd/d/sand...</td>\n",
              "      <td>salt lake city</td>\n",
              "      <td>https://saltlakecity.craigslist.org</td>\n",
              "      <td>0</td>\n",
              "      <td>2016.0</td>\n",
              "      <td>ford</td>\n",
              "      <td>f-150</td>\n",
              "      <td>excellent</td>\n",
              "      <td>NaN</td>\n",
              "      <td>gas</td>\n",
              "      <td>10.0</td>\n",
              "      <td>clean</td>\n",
              "      <td>automatic</td>\n",
              "      <td>1FTEX1EF6GKD25447</td>\n",
              "      <td>4wd</td>\n",
              "      <td>NaN</td>\n",
              "      <td>NaN</td>\n",
              "      <td>NaN</td>\n",
              "      <td>https://images.craigslist.org/00T0T_6Rjfp3NS4O...</td>\n",
              "      <td>Drive it home today. Call (Or Text) us now !!C...</td>\n",
              "      <td>NaN</td>\n",
              "      <td>ut</td>\n",
              "      <td>40.5881</td>\n",
              "      <td>-111.884</td>\n",
              "    </tr>\n",
              "    <tr>\n",
              "      <th>4</th>\n",
              "      <td>4</td>\n",
              "      <td>7034406932</td>\n",
              "      <td>https://saltlakecity.craigslist.org/ctd/d/evan...</td>\n",
              "      <td>salt lake city</td>\n",
              "      <td>https://saltlakecity.craigslist.org</td>\n",
              "      <td>49999</td>\n",
              "      <td>2018.0</td>\n",
              "      <td>ford</td>\n",
              "      <td>f-450</td>\n",
              "      <td>NaN</td>\n",
              "      <td>NaN</td>\n",
              "      <td>diesel</td>\n",
              "      <td>70150.0</td>\n",
              "      <td>clean</td>\n",
              "      <td>automatic</td>\n",
              "      <td>1FT8W4DT8GEA90427</td>\n",
              "      <td>4wd</td>\n",
              "      <td>NaN</td>\n",
              "      <td>pickup</td>\n",
              "      <td>white</td>\n",
              "      <td>https://images.craigslist.org/00W0W_8yIUwRBXXd...</td>\n",
              "      <td>2018 Ford F-350 F350 F 350 SD Lariat Crew Cab ...</td>\n",
              "      <td>NaN</td>\n",
              "      <td>ut</td>\n",
              "      <td>40.3744</td>\n",
              "      <td>-104.694</td>\n",
              "    </tr>\n",
              "  </tbody>\n",
              "</table>\n",
              "</div>"
            ],
            "text/plain": [
              "   Unnamed: 0          id  ...      lat     long\n",
              "0           0  7034441763  ...  40.7372 -111.858\n",
              "1           1  7034440610  ...  40.5881 -111.884\n",
              "2           2  7034440588  ...  40.5881 -111.884\n",
              "3           3  7034440546  ...  40.5881 -111.884\n",
              "4           4  7034406932  ...  40.3744 -104.694\n",
              "\n",
              "[5 rows x 26 columns]"
            ]
          },
          "metadata": {
            "tags": []
          },
          "execution_count": 122
        }
      ]
    },
    {
      "cell_type": "markdown",
      "metadata": {
        "id": "nic70nUN-Xmr",
        "colab_type": "text"
      },
      "source": [
        "Cek dataset"
      ]
    },
    {
      "cell_type": "code",
      "metadata": {
        "id": "I69mfVygwY0S",
        "colab_type": "code",
        "outputId": "1edc5f97-32a5-4f10-88b4-7982ee005015",
        "colab": {
          "base_uri": "https://localhost:8080/",
          "height": 287
        }
      },
      "source": [
        "df.describe()"
      ],
      "execution_count": 123,
      "outputs": [
        {
          "output_type": "execute_result",
          "data": {
            "text/html": [
              "<div>\n",
              "<style scoped>\n",
              "    .dataframe tbody tr th:only-of-type {\n",
              "        vertical-align: middle;\n",
              "    }\n",
              "\n",
              "    .dataframe tbody tr th {\n",
              "        vertical-align: top;\n",
              "    }\n",
              "\n",
              "    .dataframe thead th {\n",
              "        text-align: right;\n",
              "    }\n",
              "</style>\n",
              "<table border=\"1\" class=\"dataframe\">\n",
              "  <thead>\n",
              "    <tr style=\"text-align: right;\">\n",
              "      <th></th>\n",
              "      <th>Unnamed: 0</th>\n",
              "      <th>id</th>\n",
              "      <th>price</th>\n",
              "      <th>year</th>\n",
              "      <th>odometer</th>\n",
              "      <th>county</th>\n",
              "      <th>lat</th>\n",
              "      <th>long</th>\n",
              "    </tr>\n",
              "  </thead>\n",
              "  <tbody>\n",
              "    <tr>\n",
              "      <th>count</th>\n",
              "      <td>926.000000</td>\n",
              "      <td>9.260000e+02</td>\n",
              "      <td>926.000000</td>\n",
              "      <td>915.000000</td>\n",
              "      <td>7.970000e+02</td>\n",
              "      <td>0.0</td>\n",
              "      <td>901.000000</td>\n",
              "      <td>901.000000</td>\n",
              "    </tr>\n",
              "    <tr>\n",
              "      <th>mean</th>\n",
              "      <td>462.500000</td>\n",
              "      <td>7.042470e+09</td>\n",
              "      <td>15560.161987</td>\n",
              "      <td>2009.759563</td>\n",
              "      <td>9.925998e+04</td>\n",
              "      <td>NaN</td>\n",
              "      <td>39.215274</td>\n",
              "      <td>-101.545518</td>\n",
              "    </tr>\n",
              "    <tr>\n",
              "      <th>std</th>\n",
              "      <td>267.457473</td>\n",
              "      <td>6.421614e+06</td>\n",
              "      <td>12272.597114</td>\n",
              "      <td>8.868175</td>\n",
              "      <td>7.788474e+04</td>\n",
              "      <td>NaN</td>\n",
              "      <td>3.442223</td>\n",
              "      <td>18.463662</td>\n",
              "    </tr>\n",
              "    <tr>\n",
              "      <th>min</th>\n",
              "      <td>0.000000</td>\n",
              "      <td>7.032623e+09</td>\n",
              "      <td>0.000000</td>\n",
              "      <td>1931.000000</td>\n",
              "      <td>0.000000e+00</td>\n",
              "      <td>NaN</td>\n",
              "      <td>9.019050</td>\n",
              "      <td>-155.901000</td>\n",
              "    </tr>\n",
              "    <tr>\n",
              "      <th>25%</th>\n",
              "      <td>231.250000</td>\n",
              "      <td>7.036767e+09</td>\n",
              "      <td>6500.000000</td>\n",
              "      <td>2007.000000</td>\n",
              "      <td>5.195400e+04</td>\n",
              "      <td>NaN</td>\n",
              "      <td>37.136400</td>\n",
              "      <td>-113.608000</td>\n",
              "    </tr>\n",
              "    <tr>\n",
              "      <th>50%</th>\n",
              "      <td>462.500000</td>\n",
              "      <td>7.042337e+09</td>\n",
              "      <td>11996.000000</td>\n",
              "      <td>2012.000000</td>\n",
              "      <td>9.105200e+04</td>\n",
              "      <td>NaN</td>\n",
              "      <td>37.175600</td>\n",
              "      <td>-113.523000</td>\n",
              "    </tr>\n",
              "    <tr>\n",
              "      <th>75%</th>\n",
              "      <td>693.750000</td>\n",
              "      <td>7.049240e+09</td>\n",
              "      <td>22365.750000</td>\n",
              "      <td>2015.000000</td>\n",
              "      <td>1.313370e+05</td>\n",
              "      <td>NaN</td>\n",
              "      <td>42.887400</td>\n",
              "      <td>-73.249200</td>\n",
              "    </tr>\n",
              "    <tr>\n",
              "      <th>max</th>\n",
              "      <td>925.000000</td>\n",
              "      <td>7.050085e+09</td>\n",
              "      <td>105500.000000</td>\n",
              "      <td>2020.000000</td>\n",
              "      <td>1.350000e+06</td>\n",
              "      <td>NaN</td>\n",
              "      <td>53.032400</td>\n",
              "      <td>-71.040000</td>\n",
              "    </tr>\n",
              "  </tbody>\n",
              "</table>\n",
              "</div>"
            ],
            "text/plain": [
              "       Unnamed: 0            id          price  ...  county         lat        long\n",
              "count  926.000000  9.260000e+02     926.000000  ...     0.0  901.000000  901.000000\n",
              "mean   462.500000  7.042470e+09   15560.161987  ...     NaN   39.215274 -101.545518\n",
              "std    267.457473  6.421614e+06   12272.597114  ...     NaN    3.442223   18.463662\n",
              "min      0.000000  7.032623e+09       0.000000  ...     NaN    9.019050 -155.901000\n",
              "25%    231.250000  7.036767e+09    6500.000000  ...     NaN   37.136400 -113.608000\n",
              "50%    462.500000  7.042337e+09   11996.000000  ...     NaN   37.175600 -113.523000\n",
              "75%    693.750000  7.049240e+09   22365.750000  ...     NaN   42.887400  -73.249200\n",
              "max    925.000000  7.050085e+09  105500.000000  ...     NaN   53.032400  -71.040000\n",
              "\n",
              "[8 rows x 8 columns]"
            ]
          },
          "metadata": {
            "tags": []
          },
          "execution_count": 123
        }
      ]
    },
    {
      "cell_type": "code",
      "metadata": {
        "id": "d0SvlsF_ON_l",
        "colab_type": "code",
        "outputId": "34a97744-28ce-49a0-9fa4-275c8531a14f",
        "colab": {
          "base_uri": "https://localhost:8080/",
          "height": 197
        }
      },
      "source": [
        "df = df.drop(columns=['Unnamed: 0','id','url','region','title_status','vin','region_url', 'image_url', 'lat', 'long','manufacturer','model','county','description'])\n",
        "df.head()"
      ],
      "execution_count": 124,
      "outputs": [
        {
          "output_type": "execute_result",
          "data": {
            "text/html": [
              "<div>\n",
              "<style scoped>\n",
              "    .dataframe tbody tr th:only-of-type {\n",
              "        vertical-align: middle;\n",
              "    }\n",
              "\n",
              "    .dataframe tbody tr th {\n",
              "        vertical-align: top;\n",
              "    }\n",
              "\n",
              "    .dataframe thead th {\n",
              "        text-align: right;\n",
              "    }\n",
              "</style>\n",
              "<table border=\"1\" class=\"dataframe\">\n",
              "  <thead>\n",
              "    <tr style=\"text-align: right;\">\n",
              "      <th></th>\n",
              "      <th>price</th>\n",
              "      <th>year</th>\n",
              "      <th>condition</th>\n",
              "      <th>cylinders</th>\n",
              "      <th>fuel</th>\n",
              "      <th>odometer</th>\n",
              "      <th>transmission</th>\n",
              "      <th>drive</th>\n",
              "      <th>size</th>\n",
              "      <th>type</th>\n",
              "      <th>paint_color</th>\n",
              "      <th>state</th>\n",
              "    </tr>\n",
              "  </thead>\n",
              "  <tbody>\n",
              "    <tr>\n",
              "      <th>0</th>\n",
              "      <td>17899</td>\n",
              "      <td>2012.0</td>\n",
              "      <td>excellent</td>\n",
              "      <td>4 cylinders</td>\n",
              "      <td>gas</td>\n",
              "      <td>63500.0</td>\n",
              "      <td>manual</td>\n",
              "      <td>4wd</td>\n",
              "      <td>compact</td>\n",
              "      <td>hatchback</td>\n",
              "      <td>black</td>\n",
              "      <td>ut</td>\n",
              "    </tr>\n",
              "    <tr>\n",
              "      <th>1</th>\n",
              "      <td>0</td>\n",
              "      <td>2016.0</td>\n",
              "      <td>excellent</td>\n",
              "      <td>NaN</td>\n",
              "      <td>gas</td>\n",
              "      <td>10.0</td>\n",
              "      <td>automatic</td>\n",
              "      <td>4wd</td>\n",
              "      <td>NaN</td>\n",
              "      <td>NaN</td>\n",
              "      <td>NaN</td>\n",
              "      <td>ut</td>\n",
              "    </tr>\n",
              "    <tr>\n",
              "      <th>2</th>\n",
              "      <td>46463</td>\n",
              "      <td>2015.0</td>\n",
              "      <td>excellent</td>\n",
              "      <td>NaN</td>\n",
              "      <td>gas</td>\n",
              "      <td>7554.0</td>\n",
              "      <td>automatic</td>\n",
              "      <td>4wd</td>\n",
              "      <td>NaN</td>\n",
              "      <td>NaN</td>\n",
              "      <td>white</td>\n",
              "      <td>ut</td>\n",
              "    </tr>\n",
              "    <tr>\n",
              "      <th>3</th>\n",
              "      <td>0</td>\n",
              "      <td>2016.0</td>\n",
              "      <td>excellent</td>\n",
              "      <td>NaN</td>\n",
              "      <td>gas</td>\n",
              "      <td>10.0</td>\n",
              "      <td>automatic</td>\n",
              "      <td>4wd</td>\n",
              "      <td>NaN</td>\n",
              "      <td>NaN</td>\n",
              "      <td>NaN</td>\n",
              "      <td>ut</td>\n",
              "    </tr>\n",
              "    <tr>\n",
              "      <th>4</th>\n",
              "      <td>49999</td>\n",
              "      <td>2018.0</td>\n",
              "      <td>NaN</td>\n",
              "      <td>NaN</td>\n",
              "      <td>diesel</td>\n",
              "      <td>70150.0</td>\n",
              "      <td>automatic</td>\n",
              "      <td>4wd</td>\n",
              "      <td>NaN</td>\n",
              "      <td>pickup</td>\n",
              "      <td>white</td>\n",
              "      <td>ut</td>\n",
              "    </tr>\n",
              "  </tbody>\n",
              "</table>\n",
              "</div>"
            ],
            "text/plain": [
              "   price    year  condition    cylinders  ...     size       type paint_color state\n",
              "0  17899  2012.0  excellent  4 cylinders  ...  compact  hatchback       black    ut\n",
              "1      0  2016.0  excellent          NaN  ...      NaN        NaN         NaN    ut\n",
              "2  46463  2015.0  excellent          NaN  ...      NaN        NaN       white    ut\n",
              "3      0  2016.0  excellent          NaN  ...      NaN        NaN         NaN    ut\n",
              "4  49999  2018.0        NaN          NaN  ...      NaN     pickup       white    ut\n",
              "\n",
              "[5 rows x 12 columns]"
            ]
          },
          "metadata": {
            "tags": []
          },
          "execution_count": 124
        }
      ]
    },
    {
      "cell_type": "markdown",
      "metadata": {
        "id": "vw1_hQ-mOr4J",
        "colab_type": "text"
      },
      "source": [
        "Membatasi data year, yang dimana hanya membaca mobil diatas tahun 1985."
      ]
    },
    {
      "cell_type": "code",
      "metadata": {
        "id": "wtBw6eVktN0q",
        "colab_type": "code",
        "outputId": "0e07089c-6536-48d4-c215-59243c0e93e7",
        "colab": {
          "base_uri": "https://localhost:8080/",
          "height": 34
        }
      },
      "source": [
        "df = df[df.year > 1985]\n",
        "df.shape"
      ],
      "execution_count": 125,
      "outputs": [
        {
          "output_type": "execute_result",
          "data": {
            "text/plain": [
              "(896, 12)"
            ]
          },
          "metadata": {
            "tags": []
          },
          "execution_count": 125
        }
      ]
    },
    {
      "cell_type": "code",
      "metadata": {
        "id": "MWqU7zcQtPk_",
        "colab_type": "code",
        "outputId": "1a3f9e5c-81c4-42ea-905d-6ee28109a134",
        "colab": {
          "base_uri": "https://localhost:8080/",
          "height": 34
        }
      },
      "source": [
        "df.odometer.quantile(.999)"
      ],
      "execution_count": 126,
      "outputs": [
        {
          "output_type": "execute_result",
          "data": {
            "text/plain": [
              "801880.0000000466"
            ]
          },
          "metadata": {
            "tags": []
          },
          "execution_count": 126
        }
      ]
    },
    {
      "cell_type": "markdown",
      "metadata": {
        "id": "h2lfmnZcO50g",
        "colab_type": "text"
      },
      "source": [
        "Membatas data odometer, yang dimana hanya membaca data mobil yang telah dipakai Maximal 499999"
      ]
    },
    {
      "cell_type": "code",
      "metadata": {
        "id": "oBDN9hN6tSaH",
        "colab_type": "code",
        "outputId": "1e274474-c30c-46c0-a9a9-83675edbebec",
        "colab": {
          "base_uri": "https://localhost:8080/",
          "height": 34
        }
      },
      "source": [
        "df = df[~(df.odometer > 500000)]\n",
        "df.shape"
      ],
      "execution_count": 127,
      "outputs": [
        {
          "output_type": "execute_result",
          "data": {
            "text/plain": [
              "(893, 12)"
            ]
          },
          "metadata": {
            "tags": []
          },
          "execution_count": 127
        }
      ]
    },
    {
      "cell_type": "code",
      "metadata": {
        "id": "cSjKSQIFTK0d",
        "colab_type": "code",
        "colab": {
          "base_uri": "https://localhost:8080/",
          "height": 265
        },
        "outputId": "f973d46d-3d0d-44c4-df8d-7cec7ab02618"
      },
      "source": [
        "df.info"
      ],
      "execution_count": 128,
      "outputs": [
        {
          "output_type": "execute_result",
          "data": {
            "text/plain": [
              "<bound method DataFrame.info of      price    year  condition  ...       type paint_color  state\n",
              "0    17899  2012.0  excellent  ...  hatchback       black     ut\n",
              "1        0  2016.0  excellent  ...        NaN         NaN     ut\n",
              "2    46463  2015.0  excellent  ...        NaN       white     ut\n",
              "3        0  2016.0  excellent  ...        NaN         NaN     ut\n",
              "4    49999  2018.0        NaN  ...     pickup       white     ut\n",
              "..     ...     ...        ...  ...        ...         ...    ...\n",
              "919   7900  2013.0  excellent  ...        NaN       black     vt\n",
              "920   3595  2008.0   like new  ...      wagon        blue     vt\n",
              "921   2900  2007.0  excellent  ...      sedan        grey     vt\n",
              "924   4000  2006.0       good  ...        SUV        blue     vt\n",
              "925  17995  2018.0        NaN  ...        NaN         NaN    NaN\n",
              "\n",
              "[893 rows x 12 columns]>"
            ]
          },
          "metadata": {
            "tags": []
          },
          "execution_count": 128
        }
      ]
    },
    {
      "cell_type": "code",
      "metadata": {
        "id": "tnQJQiTx68F6",
        "colab_type": "code",
        "outputId": "69f7d96c-1fe2-4ef8-a41d-41c0753e62ab",
        "colab": {
          "base_uri": "https://localhost:8080/",
          "height": 582
        }
      },
      "source": [
        "plt.figure(figsize=(15,9))\n",
        "ax = sns.countplot(x='year',data=df);\n",
        "ax.set_xticklabels(ax.get_xticklabels(), rotation=90, ha=\"right\",fontsize=10);"
      ],
      "execution_count": 129,
      "outputs": [
        {
          "output_type": "display_data",
          "data": {
            "image/png": "[encoded data removed]",
            "text/plain": [
              "<Figure size 1080x648 with 1 Axes>"
            ]
          },
          "metadata": {
            "tags": [],
            "needs_background": "light"
          }
        }
      ]
    },
    {
      "cell_type": "code",
      "metadata": {
        "id": "pcQtZbRqR04N",
        "colab_type": "code",
        "colab": {
          "base_uri": "https://localhost:8080/",
          "height": 566
        },
        "outputId": "3aaa8a4e-0ab5-48c8-c28f-0696f02143cb"
      },
      "source": [
        "sns.set(style=\"ticks\", color_codes=True)\n",
        "sns.pairplot(df, hue=\"condition\");"
      ],
      "execution_count": 130,
      "outputs": [
        {
          "output_type": "display_data",
          "data": {
            "image/png": "[encoded data removed]",
            "text/plain": [
              "<Figure size 629.975x540 with 12 Axes>"
            ]
          },
          "metadata": {
            "tags": []
          }
        }
      ]
    },
    {
      "cell_type": "markdown",
      "metadata": {
        "id": "i9TOcDi_AcC3",
        "colab_type": "text"
      },
      "source": [
        "\n",
        "\n",
        "---\n",
        "\n"
      ]
    },
    {
      "cell_type": "markdown",
      "metadata": {
        "id": "imgmzvzu-9xb",
        "colab_type": "text"
      },
      "source": [
        "# Menghapus Outlier yang tidak terpaki"
      ]
    },
    {
      "cell_type": "markdown",
      "metadata": {
        "id": "qb519eXa_Cha",
        "colab_type": "text"
      },
      "source": [
        "Bertujuan untuk menghapus outlier yang tidak terpakai karena sangat berbda jauh dengan yang lainnya."
      ]
    },
    {
      "cell_type": "code",
      "metadata": {
        "id": "i67H8A5GqSzO",
        "colab_type": "code",
        "outputId": "7b5a74d1-b454-4a9d-ec75-8b5f936f2931",
        "colab": {
          "base_uri": "https://localhost:8080/",
          "height": 87
        }
      },
      "source": [
        "!pip install scikit-learn"
      ],
      "execution_count": 131,
      "outputs": [
        {
          "output_type": "stream",
          "text": [
            "Requirement already satisfied: scikit-learn in /usr/local/lib/python3.6/dist-packages (0.22.2.post1)\n",
            "Requirement already satisfied: numpy>=1.11.0 in /usr/local/lib/python3.6/dist-packages (from scikit-learn) (1.18.2)\n",
            "Requirement already satisfied: joblib>=0.11 in /usr/local/lib/python3.6/dist-packages (from scikit-learn) (0.14.1)\n",
            "Requirement already satisfied: scipy>=0.17.0 in /usr/local/lib/python3.6/dist-packages (from scikit-learn) (1.4.1)\n"
          ],
          "name": "stdout"
        }
      ]
    },
    {
      "cell_type": "markdown",
      "metadata": {
        "id": "Gygx64sk_cS2",
        "colab_type": "text"
      },
      "source": [
        " Menghapus data yang kosong"
      ]
    },
    {
      "cell_type": "code",
      "metadata": {
        "id": "EkbkbYSNqUJ-",
        "colab_type": "code",
        "colab": {}
      },
      "source": [
        "df['year'].replace('', np.nan, inplace=True)\n",
        "df['odometer'].replace('', np.nan, inplace=True)"
      ],
      "execution_count": 0,
      "outputs": []
    },
    {
      "cell_type": "code",
      "metadata": {
        "id": "G_914iYMqWhO",
        "colab_type": "code",
        "colab": {}
      },
      "source": [
        "df.dropna(subset=['year'], inplace=True)\n",
        "df.dropna(subset=['odometer'], inplace=True)"
      ],
      "execution_count": 0,
      "outputs": []
    },
    {
      "cell_type": "code",
      "metadata": {
        "id": "eao68VW9qa4H",
        "colab_type": "code",
        "colab": {}
      },
      "source": [
        "df = df[['odometer','year']]"
      ],
      "execution_count": 0,
      "outputs": []
    },
    {
      "cell_type": "code",
      "metadata": {
        "id": "CAm_wnKZTf-w",
        "colab_type": "code",
        "colab": {
          "base_uri": "https://localhost:8080/",
          "height": 406
        },
        "outputId": "ab005810-99b0-4ce3-9a34-36b9585765a2"
      },
      "source": [
        "display(df)"
      ],
      "execution_count": 135,
      "outputs": [
        {
          "output_type": "display_data",
          "data": {
            "text/html": [
              "<div>\n",
              "<style scoped>\n",
              "    .dataframe tbody tr th:only-of-type {\n",
              "        vertical-align: middle;\n",
              "    }\n",
              "\n",
              "    .dataframe tbody tr th {\n",
              "        vertical-align: top;\n",
              "    }\n",
              "\n",
              "    .dataframe thead th {\n",
              "        text-align: right;\n",
              "    }\n",
              "</style>\n",
              "<table border=\"1\" class=\"dataframe\">\n",
              "  <thead>\n",
              "    <tr style=\"text-align: right;\">\n",
              "      <th></th>\n",
              "      <th>odometer</th>\n",
              "      <th>year</th>\n",
              "    </tr>\n",
              "  </thead>\n",
              "  <tbody>\n",
              "    <tr>\n",
              "      <th>0</th>\n",
              "      <td>63500.0</td>\n",
              "      <td>2012.0</td>\n",
              "    </tr>\n",
              "    <tr>\n",
              "      <th>1</th>\n",
              "      <td>10.0</td>\n",
              "      <td>2016.0</td>\n",
              "    </tr>\n",
              "    <tr>\n",
              "      <th>2</th>\n",
              "      <td>7554.0</td>\n",
              "      <td>2015.0</td>\n",
              "    </tr>\n",
              "    <tr>\n",
              "      <th>3</th>\n",
              "      <td>10.0</td>\n",
              "      <td>2016.0</td>\n",
              "    </tr>\n",
              "    <tr>\n",
              "      <th>4</th>\n",
              "      <td>70150.0</td>\n",
              "      <td>2018.0</td>\n",
              "    </tr>\n",
              "    <tr>\n",
              "      <th>...</th>\n",
              "      <td>...</td>\n",
              "      <td>...</td>\n",
              "    </tr>\n",
              "    <tr>\n",
              "      <th>907</th>\n",
              "      <td>42775.0</td>\n",
              "      <td>2011.0</td>\n",
              "    </tr>\n",
              "    <tr>\n",
              "      <th>917</th>\n",
              "      <td>54000.0</td>\n",
              "      <td>2011.0</td>\n",
              "    </tr>\n",
              "    <tr>\n",
              "      <th>919</th>\n",
              "      <td>104353.0</td>\n",
              "      <td>2013.0</td>\n",
              "    </tr>\n",
              "    <tr>\n",
              "      <th>921</th>\n",
              "      <td>81403.0</td>\n",
              "      <td>2007.0</td>\n",
              "    </tr>\n",
              "    <tr>\n",
              "      <th>924</th>\n",
              "      <td>249000.0</td>\n",
              "      <td>2006.0</td>\n",
              "    </tr>\n",
              "  </tbody>\n",
              "</table>\n",
              "<p>770 rows × 2 columns</p>\n",
              "</div>"
            ],
            "text/plain": [
              "     odometer    year\n",
              "0     63500.0  2012.0\n",
              "1        10.0  2016.0\n",
              "2      7554.0  2015.0\n",
              "3        10.0  2016.0\n",
              "4     70150.0  2018.0\n",
              "..        ...     ...\n",
              "907   42775.0  2011.0\n",
              "917   54000.0  2011.0\n",
              "919  104353.0  2013.0\n",
              "921   81403.0  2007.0\n",
              "924  249000.0  2006.0\n",
              "\n",
              "[770 rows x 2 columns]"
            ]
          },
          "metadata": {
            "tags": []
          }
        }
      ]
    },
    {
      "cell_type": "code",
      "metadata": {
        "id": "XEodWfFJqcKH",
        "colab_type": "code",
        "outputId": "314192ef-dfea-4a5b-d97c-12d6dcc2af51",
        "colab": {
          "base_uri": "https://localhost:8080/",
          "height": 34
        }
      },
      "source": [
        "from sklearn.preprocessing import StandardScaler \n",
        "\n",
        "# Initialise the Scaler \n",
        "scaler = StandardScaler() \n",
        "  \n",
        "# To scale data \n",
        "scaler.fit(df) "
      ],
      "execution_count": 136,
      "outputs": [
        {
          "output_type": "execute_result",
          "data": {
            "text/plain": [
              "StandardScaler(copy=True, with_mean=True, with_std=True)"
            ]
          },
          "metadata": {
            "tags": []
          },
          "execution_count": 136
        }
      ]
    },
    {
      "cell_type": "code",
      "metadata": {
        "id": "BXCtLUKdqd9S",
        "colab_type": "code",
        "outputId": "b041531f-9460-4c1e-eb52-86c23c971cb6",
        "colab": {
          "base_uri": "https://localhost:8080/",
          "height": 406
        }
      },
      "source": [
        "display(df)"
      ],
      "execution_count": 137,
      "outputs": [
        {
          "output_type": "display_data",
          "data": {
            "text/html": [
              "<div>\n",
              "<style scoped>\n",
              "    .dataframe tbody tr th:only-of-type {\n",
              "        vertical-align: middle;\n",
              "    }\n",
              "\n",
              "    .dataframe tbody tr th {\n",
              "        vertical-align: top;\n",
              "    }\n",
              "\n",
              "    .dataframe thead th {\n",
              "        text-align: right;\n",
              "    }\n",
              "</style>\n",
              "<table border=\"1\" class=\"dataframe\">\n",
              "  <thead>\n",
              "    <tr style=\"text-align: right;\">\n",
              "      <th></th>\n",
              "      <th>odometer</th>\n",
              "      <th>year</th>\n",
              "    </tr>\n",
              "  </thead>\n",
              "  <tbody>\n",
              "    <tr>\n",
              "      <th>0</th>\n",
              "      <td>63500.0</td>\n",
              "      <td>2012.0</td>\n",
              "    </tr>\n",
              "    <tr>\n",
              "      <th>1</th>\n",
              "      <td>10.0</td>\n",
              "      <td>2016.0</td>\n",
              "    </tr>\n",
              "    <tr>\n",
              "      <th>2</th>\n",
              "      <td>7554.0</td>\n",
              "      <td>2015.0</td>\n",
              "    </tr>\n",
              "    <tr>\n",
              "      <th>3</th>\n",
              "      <td>10.0</td>\n",
              "      <td>2016.0</td>\n",
              "    </tr>\n",
              "    <tr>\n",
              "      <th>4</th>\n",
              "      <td>70150.0</td>\n",
              "      <td>2018.0</td>\n",
              "    </tr>\n",
              "    <tr>\n",
              "      <th>...</th>\n",
              "      <td>...</td>\n",
              "      <td>...</td>\n",
              "    </tr>\n",
              "    <tr>\n",
              "      <th>907</th>\n",
              "      <td>42775.0</td>\n",
              "      <td>2011.0</td>\n",
              "    </tr>\n",
              "    <tr>\n",
              "      <th>917</th>\n",
              "      <td>54000.0</td>\n",
              "      <td>2011.0</td>\n",
              "    </tr>\n",
              "    <tr>\n",
              "      <th>919</th>\n",
              "      <td>104353.0</td>\n",
              "      <td>2013.0</td>\n",
              "    </tr>\n",
              "    <tr>\n",
              "      <th>921</th>\n",
              "      <td>81403.0</td>\n",
              "      <td>2007.0</td>\n",
              "    </tr>\n",
              "    <tr>\n",
              "      <th>924</th>\n",
              "      <td>249000.0</td>\n",
              "      <td>2006.0</td>\n",
              "    </tr>\n",
              "  </tbody>\n",
              "</table>\n",
              "<p>770 rows × 2 columns</p>\n",
              "</div>"
            ],
            "text/plain": [
              "     odometer    year\n",
              "0     63500.0  2012.0\n",
              "1        10.0  2016.0\n",
              "2      7554.0  2015.0\n",
              "3        10.0  2016.0\n",
              "4     70150.0  2018.0\n",
              "..        ...     ...\n",
              "907   42775.0  2011.0\n",
              "917   54000.0  2011.0\n",
              "919  104353.0  2013.0\n",
              "921   81403.0  2007.0\n",
              "924  249000.0  2006.0\n",
              "\n",
              "[770 rows x 2 columns]"
            ]
          },
          "metadata": {
            "tags": []
          }
        }
      ]
    },
    {
      "cell_type": "markdown",
      "metadata": {
        "id": "k9ZG68pBAaXo",
        "colab_type": "text"
      },
      "source": [
        "\n",
        "\n",
        "---\n",
        "\n"
      ]
    },
    {
      "cell_type": "markdown",
      "metadata": {
        "id": "4pTKxkcW_3Kq",
        "colab_type": "text"
      },
      "source": [
        "# METODE K-MEANS CLUSTERING"
      ]
    },
    {
      "cell_type": "markdown",
      "metadata": {
        "id": "QGXw2UJfAIfs",
        "colab_type": "text"
      },
      "source": [
        "K-Means Clustering adalah suatu metode penganalisaan data atau metode Data Mining yang melakukan proses pemodelan tanpa supervisi (unsupervised) dan merupakan salah satu metode yang melakukan pengelompokan data dengan sistem partisi.\n",
        "\n",
        " \n",
        "\n",
        "Terdapat dua jenis data clustering yang sering dipergunakan dalam proses pengelompokan data yaitu Hierarchical dan Non-Hierarchical, dan K-Means merupakan salah satu metode data clustering non-hierarchical atau Partitional Clustering.\n",
        "\n",
        "\n",
        "Metode K-Means Clustering berusaha mengelompokkan data yang ada ke dalam beberapa kelompok, dimana data dalam satu kelompok mempunyai karakteristik yang sama satu sama lainnya dan mempunyai karakteristik yang berbeda dengan data yang ada di dalam kelompok yang lain.\n",
        "\n",
        "Dengan kata lain, metode K-Means Clustering bertujuan untuk meminimalisasikan objective function yang diset dalam proses clustering dengan cara meminimalkan variasi antar data yang ada di dalam suatu cluster dan memaksimalkan variasi dengan data yang ada di cluster lainnya.\n",
        "\n",
        "Data clustering menggunakan metode K-Means Clustering ini secara umum dilakukan dengan algoritma dasar sebagai berikut:\n",
        "\n",
        "\n",
        "\n",
        "-Tentukan jumlah cluster\n",
        "\n",
        "-Alokasikan data ke dalam cluster secara random\n",
        "\n",
        "\n",
        "-Hitung centroid/rata-rata dari data yang ada di masing-masing cluster\n",
        "\n",
        "\n",
        "\n",
        "-Alokasikan masing-masing data ke centroid/rata-rata terdekat"
      ]
    },
    {
      "cell_type": "code",
      "metadata": {
        "id": "u5wl0K8Vqgfi",
        "colab_type": "code",
        "colab": {}
      },
      "source": [
        "from sklearn.cluster import KMeans\n",
        "\n",
        "k_rng=range(1,10)\n",
        "sse=[]\n",
        "for k in k_rng:\n",
        "    km=KMeans(n_clusters=k)\n",
        "    km.fit(df)\n",
        "    sse.append(km.inertia_)"
      ],
      "execution_count": 0,
      "outputs": []
    },
    {
      "cell_type": "markdown",
      "metadata": {
        "id": "M6uChKdBA7yI",
        "colab_type": "text"
      },
      "source": [
        "ELBOW"
      ]
    },
    {
      "cell_type": "code",
      "metadata": {
        "id": "MnOPVlqgqiUT",
        "colab_type": "code",
        "outputId": "da527e48-b098-46b7-95fd-5bd14228f4c9",
        "colab": {
          "base_uri": "https://localhost:8080/",
          "height": 313
        }
      },
      "source": [
        "plt.xlabel(\"K\")\n",
        "plt.ylabel(\"SSE\")\n",
        "plt.plot(k_rng,sse)"
      ],
      "execution_count": 139,
      "outputs": [
        {
          "output_type": "execute_result",
          "data": {
            "text/plain": [
              "[<matplotlib.lines.Line2D at 0x7f1320c69ac8>]"
            ]
          },
          "metadata": {
            "tags": []
          },
          "execution_count": 139
        },
        {
          "output_type": "display_data",
          "data": {
            "image/png": "[encoded data removed]",
            "text/plain": [
              "<Figure size 432x288 with 1 Axes>"
            ]
          },
          "metadata": {
            "tags": []
          }
        }
      ]
    },
    {
      "cell_type": "markdown",
      "metadata": {
        "id": "xmcn3wXpBMv1",
        "colab_type": "text"
      },
      "source": [
        "Mencari nilai value dan di plot"
      ]
    },
    {
      "cell_type": "code",
      "metadata": {
        "id": "mltxwLy2qjNG",
        "colab_type": "code",
        "outputId": "e65e65a9-59a6-484e-ce18-73a36220da45",
        "colab": {
          "base_uri": "https://localhost:8080/",
          "height": 285
        }
      },
      "source": [
        "sc = StandardScaler()\n",
        "\n",
        "f1 = df['odometer'].values\n",
        "f2 = df['year'].values\n",
        "X = np.array(list(zip(f1, f2)))\n",
        "X = sc.fit_transform(X)\n",
        "plt.scatter(f1,f2, c='navy', s=7)"
      ],
      "execution_count": 150,
      "outputs": [
        {
          "output_type": "execute_result",
          "data": {
            "text/plain": [
              "<matplotlib.collections.PathCollection at 0x7f13214fd400>"
            ]
          },
          "metadata": {
            "tags": []
          },
          "execution_count": 150
        },
        {
          "output_type": "display_data",
          "data": {
            "image/png": "[encoded data removed]",
            "text/plain": [
              "<Figure size 432x288 with 1 Axes>"
            ]
          },
          "metadata": {
            "tags": []
          }
        }
      ]
    },
    {
      "cell_type": "markdown",
      "metadata": {
        "id": "P7IQj3-6BUoR",
        "colab_type": "text"
      },
      "source": [
        "Euclidean Distance"
      ]
    },
    {
      "cell_type": "code",
      "metadata": {
        "id": "pteaos2nqmXq",
        "colab_type": "code",
        "colab": {}
      },
      "source": [
        "def dist(a, b, ax=1):\n",
        "    return np.linalg.norm(a - b, axis=ax)"
      ],
      "execution_count": 0,
      "outputs": []
    },
    {
      "cell_type": "markdown",
      "metadata": {
        "id": "f6sJWXwIBYpT",
        "colab_type": "text"
      },
      "source": [
        "Menentukan jumlah cluster, dan menentukan koordina centroids"
      ]
    },
    {
      "cell_type": "code",
      "metadata": {
        "id": "h4Ajqe3SqnZV",
        "colab_type": "code",
        "outputId": "624c1a66-22e6-4d60-a166-d85516bb9c1e",
        "colab": {
          "base_uri": "https://localhost:8080/",
          "height": 87
        }
      },
      "source": [
        "k = 3\n",
        "\n",
        "C_x = np.random.randint(0, np.max(X), size=k) \n",
        "C_y = np.random.randint(0, np.max(X), size=k)\n",
        "C = np.array(list(zip(C_x, C_y)), dtype=np.float32)\n",
        "print(\"inisial Centroids\")\n",
        "print(C)"
      ],
      "execution_count": 118,
      "outputs": [
        {
          "output_type": "stream",
          "text": [
            "inisial Centroids\n",
            "[[4. 1.]\n",
            " [1. 2.]\n",
            " [0. 3.]]\n"
          ],
          "name": "stdout"
        }
      ]
    },
    {
      "cell_type": "markdown",
      "metadata": {
        "id": "FfJS8YmPBhaM",
        "colab_type": "text"
      },
      "source": [
        "Memvisualisasikan dengan centorids"
      ]
    },
    {
      "cell_type": "code",
      "metadata": {
        "id": "BgfWfZVKqr8q",
        "colab_type": "code",
        "outputId": "018cdf9c-abdb-46a6-e31a-1f9f89dca194",
        "colab": {
          "base_uri": "https://localhost:8080/",
          "height": 321
        }
      },
      "source": [
        "C_old = np.zeros(C.shape)\n",
        "clusters = np.zeros(len(X))\n",
        "error = dist(C, C_old, None)\n",
        "\n",
        "while error != 0:\n",
        "    for i in range(len(X)):\n",
        "        distances = dist(X[i], C)\n",
        "        cluster = np.argmin(distances)\n",
        "        clusters[i] = cluster\n",
        "    C_old = deepcopy(C)\n",
        " \n",
        "    for i in range(k):\n",
        "        points = [X[j] for j in range(len(X)) if clusters[j] == i]\n",
        "        C[i] = np.mean(points, axis=0)\n",
        "    error = dist(C, C_old, None)\n",
        "\n",
        "colors = ['black', 'red', 'yellow', 'idigo', 'violet', 'wheat']\n",
        "fig, ax = plt.subplots()\n",
        "for i in range(k):\n",
        "        points = np.array([X[j] for j in range(len(X)) if clusters[j] == i])\n",
        "        ax.scatter(points[:, 0], points[:, 1], s=7, c=colors[i])\n",
        "ax.scatter(C[:, 0], C[:, 1], marker='h', s=200, c='#050505')\n",
        "\n",
        "\n",
        "print(C) "
      ],
      "execution_count": 119,
      "outputs": [
        {
          "output_type": "stream",
          "text": [
            "[[ 1.2251483  -1.3962919 ]\n",
            " [ 0.2219047  -0.05442166]\n",
            " [-0.9484205   0.85975033]]\n"
          ],
          "name": "stdout"
        },
        {
          "output_type": "display_data",
          "data": {
            "image/png": "[encoded data removed]",
            "text/plain": [
              "<Figure size 432x288 with 1 Axes>"
            ]
          },
          "metadata": {
            "tags": []
          }
        }
      ]
    },
    {
      "cell_type": "markdown",
      "metadata": {
        "id": "kM_jpf2jBCWk",
        "colab_type": "text"
      },
      "source": [
        "# KESIMPULAN dan ANALISIS"
      ]
    },
    {
      "cell_type": "markdown",
      "metadata": {
        "id": "r6HRArFXBxns",
        "colab_type": "text"
      },
      "source": [
        "Dalam eksperimen ini yang dimana menggunakan atribu year dan odometer, yang dimana saya membatasa mobil terkahir dimana pada mobil selain tahun 1985 tidak akan dihitung.\n",
        "\n",
        "Pada hasil eksperimen ini menghasilakan tiga titik centorids yaitu\n",
        "\n",
        "[1.2251483  -1.3962919]\n",
        "[ 0.2219047  -0.05442166]\n",
        "[-0.9484205   0.85975033]\n",
        "\n",
        "hasil dari 3 titik tersbut menyimpulkan jumlah cluster terbaik dalam atribut yang dipilih."
      ]
    }
  ]
}